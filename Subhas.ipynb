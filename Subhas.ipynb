{
  "nbformat": 4,
  "nbformat_minor": 0,
  "metadata": {
    "colab": {
      "name": "Subhas.ipynb",
      "provenance": [],
      "collapsed_sections": [],
      "authorship_tag": "ABX9TyN8eq64zJIp4oBmaXVhCRvj",
      "include_colab_link": true
    },
    "kernelspec": {
      "name": "python3",
      "display_name": "Python 3"
    },
    "language_info": {
      "name": "python"
    }
  },
  "cells": [
    {
      "cell_type": "markdown",
      "metadata": {
        "id": "view-in-github",
        "colab_type": "text"
      },
      "source": [
        "<a href=\"https://colab.research.google.com/github/KapilKhanal/AdvLinearAlgebra/blob/master/Subhas.ipynb\" target=\"_parent\"><img src=\"https://colab.research.google.com/assets/colab-badge.svg\" alt=\"Open In Colab\"/></a>"
      ]
    },
    {
      "cell_type": "code",
      "metadata": {
        "id": "bu2SFRzaFbZZ"
      },
      "source": [
        "import pandas as pd\n",
        "df = pd.read_excel('siadata_sample.xlsx')"
      ],
      "execution_count": 1,
      "outputs": []
    },
    {
      "cell_type": "code",
      "metadata": {
        "colab": {
          "base_uri": "https://localhost:8080/"
        },
        "id": "9-ZsYFyWF8OR",
        "outputId": "28fdfb25-60ec-41ce-e05b-bdd4d7e3b52d"
      },
      "source": [
        "df.shape"
      ],
      "execution_count": 55,
      "outputs": [
        {
          "output_type": "execute_result",
          "data": {
            "text/plain": [
              "(19, 7)"
            ]
          },
          "metadata": {
            "tags": []
          },
          "execution_count": 55
        }
      ]
    },
    {
      "cell_type": "code",
      "metadata": {
        "id": "_mOjxbhYCqG-"
      },
      "source": [
        "def replace_fs_pipeline(df):\n",
        "  '''Param df : The dataframe where columns are replaced and mapped'''\n",
        "  df = df.copy()\n",
        "  def replace_fs_three(df):\n",
        "  #Range(low,high) function generates betwwen low to high -1\n",
        "    condition_high= {score:'high risk' for score in range(1,11)}\n",
        "    condition_low = {score: 'medium risk' for score in range(11,21) }\n",
        "    conditions = {**condition_high,**condition_low}\n",
        "    df['financialscore_3ranges'] = df['score_filled'].map(lambda x: conditions[x] if x<20 else 'low risk')\n",
        "    return df\n",
        "  def replace_fs_seven(df):\n",
        "    condition_vhr= {score:'VHR' for score in range(0,6)}\n",
        "    condition_hr = {score: 'HR' for score in range(6,10) }\n",
        "    condition_mhr = {score: 'MHR' for score in range(10,16) }\n",
        "    condition_mr = {score: 'MR' for score in range(16,21) }\n",
        "    condition_mlr = {score: 'MLR' for score in range(21,26) }\n",
        "    condition_lr = {score: 'LR' for score in range(26,31) }\n",
        "    #condition_vlr will be mapped as else\n",
        "\n",
        "    conditions = {**condition_vhr,**condition_hr,\n",
        "                  **condition_mhr,**condition_mr,\n",
        "                  **condition_mlr, **condition_lr}\n",
        "    df['financialscore_7ranges'] = df['score_filled'].map(lambda x: conditions[x] if x<30 else 'VLR')\n",
        "    return df\n",
        "\n",
        "\n",
        "  df = replace_fs_three(df)\n",
        "  df = replace_fs_seven(df)\n",
        "  return df\n",
        "\n",
        "  "
      ],
      "execution_count": 3,
      "outputs": []
    },
    {
      "cell_type": "code",
      "metadata": {
        "id": "yC-T9DGJG2sG"
      },
      "source": [
        ""
      ],
      "execution_count": 35,
      "outputs": []
    },
    {
      "cell_type": "code",
      "metadata": {
        "id": "eQVJP4CaGmWG"
      },
      "source": [
        "gud_df = pd.read_excel(\"sample.xlsx\", sheet_name = 'gud_name' )"
      ],
      "execution_count": 7,
      "outputs": []
    },
    {
      "cell_type": "code",
      "metadata": {
        "id": "LTHVLgn-HCQx"
      },
      "source": [
        "gud_name_mapper = dict(zip((gud_df['Supplier GUD'].apply(str)), gud_df['Supplier Name']))\n"
      ],
      "execution_count": 36,
      "outputs": []
    },
    {
      "cell_type": "code",
      "metadata": {
        "colab": {
          "base_uri": "https://localhost:8080/",
          "height": 204
        },
        "id": "Mbcgq23cLWWM",
        "outputId": "f77b6835-ef24-4cb5-fab1-8b62f1f7266e"
      },
      "source": [
        "def map_gud_name(df,gud_name_mapper):\n",
        "  df = df.copy()\n",
        "  df['gud'] = df['gud'].apply(str)\n",
        "  try:\n",
        "    df['Supplier Name'] = df['gud'].map(lambda x : gud_name_mapper[x])\n",
        "  except:\n",
        "    pass\n",
        "  return df\n",
        "\n",
        "df = map_gud_name(df,gud_name_mapper)\n",
        "df.head()"
      ],
      "execution_count": 27,
      "outputs": [
        {
          "output_type": "execute_result",
          "data": {
            "text/html": [
              "<div>\n",
              "<style scoped>\n",
              "    .dataframe tbody tr th:only-of-type {\n",
              "        vertical-align: middle;\n",
              "    }\n",
              "\n",
              "    .dataframe tbody tr th {\n",
              "        vertical-align: top;\n",
              "    }\n",
              "\n",
              "    .dataframe thead th {\n",
              "        text-align: right;\n",
              "    }\n",
              "</style>\n",
              "<table border=\"1\" class=\"dataframe\">\n",
              "  <thead>\n",
              "    <tr style=\"text-align: right;\">\n",
              "      <th></th>\n",
              "      <th>gud</th>\n",
              "      <th>year</th>\n",
              "      <th>date</th>\n",
              "      <th>score_filled</th>\n",
              "      <th>financialscore_3ranges</th>\n",
              "      <th>currency_code</th>\n",
              "      <th>month_year</th>\n",
              "    </tr>\n",
              "  </thead>\n",
              "  <tbody>\n",
              "    <tr>\n",
              "      <th>0</th>\n",
              "      <td>588202620</td>\n",
              "      <td>2017</td>\n",
              "      <td>2021-03-10</td>\n",
              "      <td>25</td>\n",
              "      <td>Medium</td>\n",
              "      <td>1000085</td>\n",
              "      <td>3_2021</td>\n",
              "    </tr>\n",
              "    <tr>\n",
              "      <th>1</th>\n",
              "      <td>947251118</td>\n",
              "      <td>2019</td>\n",
              "      <td>2020-11-25</td>\n",
              "      <td>17</td>\n",
              "      <td>medium</td>\n",
              "      <td>1000085</td>\n",
              "      <td>11_2020</td>\n",
              "    </tr>\n",
              "    <tr>\n",
              "      <th>2</th>\n",
              "      <td>932810810</td>\n",
              "      <td>2017</td>\n",
              "      <td>2020-11-25</td>\n",
              "      <td>2</td>\n",
              "      <td>None</td>\n",
              "      <td>1000085</td>\n",
              "      <td>11_2020</td>\n",
              "    </tr>\n",
              "    <tr>\n",
              "      <th>3</th>\n",
              "      <td>538637573</td>\n",
              "      <td>2017</td>\n",
              "      <td>2021-01-21</td>\n",
              "      <td>6</td>\n",
              "      <td>None</td>\n",
              "      <td>1000085</td>\n",
              "      <td>1_2021</td>\n",
              "    </tr>\n",
              "    <tr>\n",
              "      <th>4</th>\n",
              "      <td>584253721</td>\n",
              "      <td>2019</td>\n",
              "      <td>2020-05-18</td>\n",
              "      <td>16</td>\n",
              "      <td>medium</td>\n",
              "      <td>1000085</td>\n",
              "      <td>5_2020</td>\n",
              "    </tr>\n",
              "  </tbody>\n",
              "</table>\n",
              "</div>"
            ],
            "text/plain": [
              "         gud  year       date  ...  financialscore_3ranges currency_code  month_year\n",
              "0  588202620  2017 2021-03-10  ...                 Medium        1000085      3_2021\n",
              "1  947251118  2019 2020-11-25  ...                 medium        1000085     11_2020\n",
              "2  932810810  2017 2020-11-25  ...                    None       1000085     11_2020\n",
              "3  538637573  2017 2021-01-21  ...                    None       1000085      1_2021\n",
              "4  584253721  2019 2020-05-18  ...                 medium        1000085      5_2020\n",
              "\n",
              "[5 rows x 7 columns]"
            ]
          },
          "metadata": {
            "tags": []
          },
          "execution_count": 27
        }
      ]
    },
    {
      "cell_type": "code",
      "metadata": {
        "id": "j7TYJx5HPdZo"
      },
      "source": [
        "cur_df = pd.read_excel(\"sample.xlsx\", sheet_name = 'Currency' )"
      ],
      "execution_count": 37,
      "outputs": []
    },
    {
      "cell_type": "code",
      "metadata": {
        "colab": {
          "base_uri": "https://localhost:8080/",
          "height": 204
        },
        "id": "8rDlxfU6WqeD",
        "outputId": "76b94cb2-f318-48af-8ec9-74ef0fafca79"
      },
      "source": [
        "df.tail()"
      ],
      "execution_count": 50,
      "outputs": [
        {
          "output_type": "execute_result",
          "data": {
            "text/html": [
              "<div>\n",
              "<style scoped>\n",
              "    .dataframe tbody tr th:only-of-type {\n",
              "        vertical-align: middle;\n",
              "    }\n",
              "\n",
              "    .dataframe tbody tr th {\n",
              "        vertical-align: top;\n",
              "    }\n",
              "\n",
              "    .dataframe thead th {\n",
              "        text-align: right;\n",
              "    }\n",
              "</style>\n",
              "<table border=\"1\" class=\"dataframe\">\n",
              "  <thead>\n",
              "    <tr style=\"text-align: right;\">\n",
              "      <th></th>\n",
              "      <th>gud</th>\n",
              "      <th>year</th>\n",
              "      <th>date</th>\n",
              "      <th>score_filled</th>\n",
              "      <th>financialscore_3ranges</th>\n",
              "      <th>currency_code</th>\n",
              "      <th>month_year</th>\n",
              "    </tr>\n",
              "  </thead>\n",
              "  <tbody>\n",
              "    <tr>\n",
              "      <th>14</th>\n",
              "      <td>713307060</td>\n",
              "      <td>2017</td>\n",
              "      <td>2020-11-25</td>\n",
              "      <td>27</td>\n",
              "      <td>medium</td>\n",
              "      <td>1000054</td>\n",
              "      <td>2_2020</td>\n",
              "    </tr>\n",
              "    <tr>\n",
              "      <th>15</th>\n",
              "      <td>439766113</td>\n",
              "      <td>2017</td>\n",
              "      <td>2021-01-21</td>\n",
              "      <td>3</td>\n",
              "      <td>Medium</td>\n",
              "      <td>1000054</td>\n",
              "      <td>1_2021</td>\n",
              "    </tr>\n",
              "    <tr>\n",
              "      <th>16</th>\n",
              "      <td>612204786</td>\n",
              "      <td>2017</td>\n",
              "      <td>2020-05-18</td>\n",
              "      <td>16</td>\n",
              "      <td>medium</td>\n",
              "      <td>1000054</td>\n",
              "      <td>1_2020</td>\n",
              "    </tr>\n",
              "    <tr>\n",
              "      <th>17</th>\n",
              "      <td>468853812</td>\n",
              "      <td>2017</td>\n",
              "      <td>2021-04-22</td>\n",
              "      <td>31</td>\n",
              "      <td>None</td>\n",
              "      <td>1000054</td>\n",
              "      <td>4_2021</td>\n",
              "    </tr>\n",
              "    <tr>\n",
              "      <th>18</th>\n",
              "      <td>917499945</td>\n",
              "      <td>2020</td>\n",
              "      <td>2021-03-10</td>\n",
              "      <td>19</td>\n",
              "      <td>None</td>\n",
              "      <td>1000054</td>\n",
              "      <td>3_2021</td>\n",
              "    </tr>\n",
              "  </tbody>\n",
              "</table>\n",
              "</div>"
            ],
            "text/plain": [
              "          gud  year       date  ...  financialscore_3ranges currency_code month_year\n",
              "14  713307060  2017 2020-11-25  ...                 medium        1000054     2_2020\n",
              "15  439766113  2017 2021-01-21  ...                 Medium        1000054     1_2021\n",
              "16  612204786  2017 2020-05-18  ...                 medium        1000054     1_2020\n",
              "17  468853812  2017 2021-04-22  ...                    None       1000054     4_2021\n",
              "18  917499945  2020 2021-03-10  ...                    None       1000054     3_2021\n",
              "\n",
              "[5 rows x 7 columns]"
            ]
          },
          "metadata": {
            "tags": []
          },
          "execution_count": 50
        }
      ]
    },
    {
      "cell_type": "code",
      "metadata": {
        "id": "646SzZ5kVQlx"
      },
      "source": [
        "cur_df = cur_df.applymap(str)\n",
        "df['currency_code'] = df['currency_code'].apply(str)"
      ],
      "execution_count": 45,
      "outputs": []
    },
    {
      "cell_type": "code",
      "metadata": {
        "id": "OWHXluJiVXfE"
      },
      "source": [
        "merged_df = pd.merge(df, cur_df, how='left', left_on=['currency_code'], right_on=['Currency_Code'])"
      ],
      "execution_count": 46,
      "outputs": []
    },
    {
      "cell_type": "code",
      "metadata": {
        "colab": {
          "base_uri": "https://localhost:8080/"
        },
        "id": "zExmLcWXWLPa",
        "outputId": "a513ed76-60dc-4dcb-eb80-e01101456920"
      },
      "source": [
        "\n",
        "df.shape"
      ],
      "execution_count": 54,
      "outputs": [
        {
          "output_type": "execute_result",
          "data": {
            "text/plain": [
              "(19, 7)"
            ]
          },
          "metadata": {
            "tags": []
          },
          "execution_count": 54
        }
      ]
    }
  ]
}