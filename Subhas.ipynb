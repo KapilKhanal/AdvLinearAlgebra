{
  "nbformat": 4,
  "nbformat_minor": 0,
  "metadata": {
    "colab": {
      "name": "Subhas.ipynb",
      "provenance": [],
      "collapsed_sections": [],
      "authorship_tag": "ABX9TyOS7xbRqUnFvf30Ahn3nGXT",
      "include_colab_link": true
    },
    "kernelspec": {
      "name": "python3",
      "display_name": "Python 3"
    },
    "language_info": {
      "name": "python"
    }
  },
  "cells": [
    {
      "cell_type": "markdown",
      "metadata": {
        "id": "view-in-github",
        "colab_type": "text"
      },
      "source": [
        "<a href=\"https://colab.research.google.com/github/KapilKhanal/AdvLinearAlgebra/blob/master/Subhas.ipynb\" target=\"_parent\"><img src=\"https://colab.research.google.com/assets/colab-badge.svg\" alt=\"Open In Colab\"/></a>"
      ]
    },
    {
      "cell_type": "code",
      "metadata": {
        "id": "bu2SFRzaFbZZ",
        "colab": {
          "base_uri": "https://localhost:8080/",
          "height": 409
        },
        "outputId": "61580279-a949-4788-bcd8-32d5959a8c3a"
      },
      "source": [
        "import pandas as pd\n",
        "df = pd.read_excel('siadata_sample.xlsx')"
      ],
      "execution_count": 3,
      "outputs": [
        {
          "output_type": "error",
          "ename": "FileNotFoundError",
          "evalue": "ignored",
          "traceback": [
            "\u001b[0;31m---------------------------------------------------------------------------\u001b[0m",
            "\u001b[0;31mFileNotFoundError\u001b[0m                         Traceback (most recent call last)",
            "\u001b[0;32m<ipython-input-3-31a3c6635701>\u001b[0m in \u001b[0;36m<module>\u001b[0;34m()\u001b[0m\n\u001b[1;32m      1\u001b[0m \u001b[0;32mimport\u001b[0m \u001b[0mpandas\u001b[0m \u001b[0;32mas\u001b[0m \u001b[0mpd\u001b[0m\u001b[0;34m\u001b[0m\u001b[0;34m\u001b[0m\u001b[0m\n\u001b[0;32m----> 2\u001b[0;31m \u001b[0mdf\u001b[0m \u001b[0;34m=\u001b[0m \u001b[0mpd\u001b[0m\u001b[0;34m.\u001b[0m\u001b[0mread_excel\u001b[0m\u001b[0;34m(\u001b[0m\u001b[0;34m'siadata_sample.xlsx'\u001b[0m\u001b[0;34m)\u001b[0m\u001b[0;34m\u001b[0m\u001b[0;34m\u001b[0m\u001b[0m\n\u001b[0m",
            "\u001b[0;32m/usr/local/lib/python3.7/dist-packages/pandas/util/_decorators.py\u001b[0m in \u001b[0;36mwrapper\u001b[0;34m(*args, **kwargs)\u001b[0m\n\u001b[1;32m    294\u001b[0m                 )\n\u001b[1;32m    295\u001b[0m                 \u001b[0mwarnings\u001b[0m\u001b[0;34m.\u001b[0m\u001b[0mwarn\u001b[0m\u001b[0;34m(\u001b[0m\u001b[0mmsg\u001b[0m\u001b[0;34m,\u001b[0m \u001b[0mFutureWarning\u001b[0m\u001b[0;34m,\u001b[0m \u001b[0mstacklevel\u001b[0m\u001b[0;34m=\u001b[0m\u001b[0mstacklevel\u001b[0m\u001b[0;34m)\u001b[0m\u001b[0;34m\u001b[0m\u001b[0;34m\u001b[0m\u001b[0m\n\u001b[0;32m--> 296\u001b[0;31m             \u001b[0;32mreturn\u001b[0m \u001b[0mfunc\u001b[0m\u001b[0;34m(\u001b[0m\u001b[0;34m*\u001b[0m\u001b[0margs\u001b[0m\u001b[0;34m,\u001b[0m \u001b[0;34m**\u001b[0m\u001b[0mkwargs\u001b[0m\u001b[0;34m)\u001b[0m\u001b[0;34m\u001b[0m\u001b[0;34m\u001b[0m\u001b[0m\n\u001b[0m\u001b[1;32m    297\u001b[0m \u001b[0;34m\u001b[0m\u001b[0m\n\u001b[1;32m    298\u001b[0m         \u001b[0;32mreturn\u001b[0m \u001b[0mwrapper\u001b[0m\u001b[0;34m\u001b[0m\u001b[0;34m\u001b[0m\u001b[0m\n",
            "\u001b[0;32m/usr/local/lib/python3.7/dist-packages/pandas/io/excel/_base.py\u001b[0m in \u001b[0;36mread_excel\u001b[0;34m(io, sheet_name, header, names, index_col, usecols, squeeze, dtype, engine, converters, true_values, false_values, skiprows, nrows, na_values, keep_default_na, na_filter, verbose, parse_dates, date_parser, thousands, comment, skipfooter, convert_float, mangle_dupe_cols)\u001b[0m\n\u001b[1;32m    302\u001b[0m \u001b[0;34m\u001b[0m\u001b[0m\n\u001b[1;32m    303\u001b[0m     \u001b[0;32mif\u001b[0m \u001b[0;32mnot\u001b[0m \u001b[0misinstance\u001b[0m\u001b[0;34m(\u001b[0m\u001b[0mio\u001b[0m\u001b[0;34m,\u001b[0m \u001b[0mExcelFile\u001b[0m\u001b[0;34m)\u001b[0m\u001b[0;34m:\u001b[0m\u001b[0;34m\u001b[0m\u001b[0;34m\u001b[0m\u001b[0m\n\u001b[0;32m--> 304\u001b[0;31m         \u001b[0mio\u001b[0m \u001b[0;34m=\u001b[0m \u001b[0mExcelFile\u001b[0m\u001b[0;34m(\u001b[0m\u001b[0mio\u001b[0m\u001b[0;34m,\u001b[0m \u001b[0mengine\u001b[0m\u001b[0;34m=\u001b[0m\u001b[0mengine\u001b[0m\u001b[0;34m)\u001b[0m\u001b[0;34m\u001b[0m\u001b[0;34m\u001b[0m\u001b[0m\n\u001b[0m\u001b[1;32m    305\u001b[0m     \u001b[0;32melif\u001b[0m \u001b[0mengine\u001b[0m \u001b[0;32mand\u001b[0m \u001b[0mengine\u001b[0m \u001b[0;34m!=\u001b[0m \u001b[0mio\u001b[0m\u001b[0;34m.\u001b[0m\u001b[0mengine\u001b[0m\u001b[0;34m:\u001b[0m\u001b[0;34m\u001b[0m\u001b[0;34m\u001b[0m\u001b[0m\n\u001b[1;32m    306\u001b[0m         raise ValueError(\n",
            "\u001b[0;32m/usr/local/lib/python3.7/dist-packages/pandas/io/excel/_base.py\u001b[0m in \u001b[0;36m__init__\u001b[0;34m(self, path_or_buffer, engine)\u001b[0m\n\u001b[1;32m    865\u001b[0m         \u001b[0mself\u001b[0m\u001b[0;34m.\u001b[0m\u001b[0m_io\u001b[0m \u001b[0;34m=\u001b[0m \u001b[0mstringify_path\u001b[0m\u001b[0;34m(\u001b[0m\u001b[0mpath_or_buffer\u001b[0m\u001b[0;34m)\u001b[0m\u001b[0;34m\u001b[0m\u001b[0;34m\u001b[0m\u001b[0m\n\u001b[1;32m    866\u001b[0m \u001b[0;34m\u001b[0m\u001b[0m\n\u001b[0;32m--> 867\u001b[0;31m         \u001b[0mself\u001b[0m\u001b[0;34m.\u001b[0m\u001b[0m_reader\u001b[0m \u001b[0;34m=\u001b[0m \u001b[0mself\u001b[0m\u001b[0;34m.\u001b[0m\u001b[0m_engines\u001b[0m\u001b[0;34m[\u001b[0m\u001b[0mengine\u001b[0m\u001b[0;34m]\u001b[0m\u001b[0;34m(\u001b[0m\u001b[0mself\u001b[0m\u001b[0;34m.\u001b[0m\u001b[0m_io\u001b[0m\u001b[0;34m)\u001b[0m\u001b[0;34m\u001b[0m\u001b[0;34m\u001b[0m\u001b[0m\n\u001b[0m\u001b[1;32m    868\u001b[0m \u001b[0;34m\u001b[0m\u001b[0m\n\u001b[1;32m    869\u001b[0m     \u001b[0;32mdef\u001b[0m \u001b[0m__fspath__\u001b[0m\u001b[0;34m(\u001b[0m\u001b[0mself\u001b[0m\u001b[0;34m)\u001b[0m\u001b[0;34m:\u001b[0m\u001b[0;34m\u001b[0m\u001b[0;34m\u001b[0m\u001b[0m\n",
            "\u001b[0;32m/usr/local/lib/python3.7/dist-packages/pandas/io/excel/_xlrd.py\u001b[0m in \u001b[0;36m__init__\u001b[0;34m(self, filepath_or_buffer)\u001b[0m\n\u001b[1;32m     20\u001b[0m         \u001b[0merr_msg\u001b[0m \u001b[0;34m=\u001b[0m \u001b[0;34m\"Install xlrd >= 1.0.0 for Excel support\"\u001b[0m\u001b[0;34m\u001b[0m\u001b[0;34m\u001b[0m\u001b[0m\n\u001b[1;32m     21\u001b[0m         \u001b[0mimport_optional_dependency\u001b[0m\u001b[0;34m(\u001b[0m\u001b[0;34m\"xlrd\"\u001b[0m\u001b[0;34m,\u001b[0m \u001b[0mextra\u001b[0m\u001b[0;34m=\u001b[0m\u001b[0merr_msg\u001b[0m\u001b[0;34m)\u001b[0m\u001b[0;34m\u001b[0m\u001b[0;34m\u001b[0m\u001b[0m\n\u001b[0;32m---> 22\u001b[0;31m         \u001b[0msuper\u001b[0m\u001b[0;34m(\u001b[0m\u001b[0;34m)\u001b[0m\u001b[0;34m.\u001b[0m\u001b[0m__init__\u001b[0m\u001b[0;34m(\u001b[0m\u001b[0mfilepath_or_buffer\u001b[0m\u001b[0;34m)\u001b[0m\u001b[0;34m\u001b[0m\u001b[0;34m\u001b[0m\u001b[0m\n\u001b[0m\u001b[1;32m     23\u001b[0m \u001b[0;34m\u001b[0m\u001b[0m\n\u001b[1;32m     24\u001b[0m     \u001b[0;34m@\u001b[0m\u001b[0mproperty\u001b[0m\u001b[0;34m\u001b[0m\u001b[0;34m\u001b[0m\u001b[0m\n",
            "\u001b[0;32m/usr/local/lib/python3.7/dist-packages/pandas/io/excel/_base.py\u001b[0m in \u001b[0;36m__init__\u001b[0;34m(self, filepath_or_buffer)\u001b[0m\n\u001b[1;32m    351\u001b[0m             \u001b[0mself\u001b[0m\u001b[0;34m.\u001b[0m\u001b[0mbook\u001b[0m \u001b[0;34m=\u001b[0m \u001b[0mself\u001b[0m\u001b[0;34m.\u001b[0m\u001b[0mload_workbook\u001b[0m\u001b[0;34m(\u001b[0m\u001b[0mfilepath_or_buffer\u001b[0m\u001b[0;34m)\u001b[0m\u001b[0;34m\u001b[0m\u001b[0;34m\u001b[0m\u001b[0m\n\u001b[1;32m    352\u001b[0m         \u001b[0;32melif\u001b[0m \u001b[0misinstance\u001b[0m\u001b[0;34m(\u001b[0m\u001b[0mfilepath_or_buffer\u001b[0m\u001b[0;34m,\u001b[0m \u001b[0mstr\u001b[0m\u001b[0;34m)\u001b[0m\u001b[0;34m:\u001b[0m\u001b[0;34m\u001b[0m\u001b[0;34m\u001b[0m\u001b[0m\n\u001b[0;32m--> 353\u001b[0;31m             \u001b[0mself\u001b[0m\u001b[0;34m.\u001b[0m\u001b[0mbook\u001b[0m \u001b[0;34m=\u001b[0m \u001b[0mself\u001b[0m\u001b[0;34m.\u001b[0m\u001b[0mload_workbook\u001b[0m\u001b[0;34m(\u001b[0m\u001b[0mfilepath_or_buffer\u001b[0m\u001b[0;34m)\u001b[0m\u001b[0;34m\u001b[0m\u001b[0;34m\u001b[0m\u001b[0m\n\u001b[0m\u001b[1;32m    354\u001b[0m         \u001b[0;32melif\u001b[0m \u001b[0misinstance\u001b[0m\u001b[0;34m(\u001b[0m\u001b[0mfilepath_or_buffer\u001b[0m\u001b[0;34m,\u001b[0m \u001b[0mbytes\u001b[0m\u001b[0;34m)\u001b[0m\u001b[0;34m:\u001b[0m\u001b[0;34m\u001b[0m\u001b[0;34m\u001b[0m\u001b[0m\n\u001b[1;32m    355\u001b[0m             \u001b[0mself\u001b[0m\u001b[0;34m.\u001b[0m\u001b[0mbook\u001b[0m \u001b[0;34m=\u001b[0m \u001b[0mself\u001b[0m\u001b[0;34m.\u001b[0m\u001b[0mload_workbook\u001b[0m\u001b[0;34m(\u001b[0m\u001b[0mBytesIO\u001b[0m\u001b[0;34m(\u001b[0m\u001b[0mfilepath_or_buffer\u001b[0m\u001b[0;34m)\u001b[0m\u001b[0;34m)\u001b[0m\u001b[0;34m\u001b[0m\u001b[0;34m\u001b[0m\u001b[0m\n",
            "\u001b[0;32m/usr/local/lib/python3.7/dist-packages/pandas/io/excel/_xlrd.py\u001b[0m in \u001b[0;36mload_workbook\u001b[0;34m(self, filepath_or_buffer)\u001b[0m\n\u001b[1;32m     35\u001b[0m             \u001b[0;32mreturn\u001b[0m \u001b[0mopen_workbook\u001b[0m\u001b[0;34m(\u001b[0m\u001b[0mfile_contents\u001b[0m\u001b[0;34m=\u001b[0m\u001b[0mdata\u001b[0m\u001b[0;34m)\u001b[0m\u001b[0;34m\u001b[0m\u001b[0;34m\u001b[0m\u001b[0m\n\u001b[1;32m     36\u001b[0m         \u001b[0;32melse\u001b[0m\u001b[0;34m:\u001b[0m\u001b[0;34m\u001b[0m\u001b[0;34m\u001b[0m\u001b[0m\n\u001b[0;32m---> 37\u001b[0;31m             \u001b[0;32mreturn\u001b[0m \u001b[0mopen_workbook\u001b[0m\u001b[0;34m(\u001b[0m\u001b[0mfilepath_or_buffer\u001b[0m\u001b[0;34m)\u001b[0m\u001b[0;34m\u001b[0m\u001b[0;34m\u001b[0m\u001b[0m\n\u001b[0m\u001b[1;32m     38\u001b[0m \u001b[0;34m\u001b[0m\u001b[0m\n\u001b[1;32m     39\u001b[0m     \u001b[0;34m@\u001b[0m\u001b[0mproperty\u001b[0m\u001b[0;34m\u001b[0m\u001b[0;34m\u001b[0m\u001b[0m\n",
            "\u001b[0;32m/usr/local/lib/python3.7/dist-packages/xlrd/__init__.py\u001b[0m in \u001b[0;36mopen_workbook\u001b[0;34m(filename, logfile, verbosity, use_mmap, file_contents, encoding_override, formatting_info, on_demand, ragged_rows)\u001b[0m\n\u001b[1;32m    114\u001b[0m         \u001b[0mpeek\u001b[0m \u001b[0;34m=\u001b[0m \u001b[0mfile_contents\u001b[0m\u001b[0;34m[\u001b[0m\u001b[0;34m:\u001b[0m\u001b[0mpeeksz\u001b[0m\u001b[0;34m]\u001b[0m\u001b[0;34m\u001b[0m\u001b[0;34m\u001b[0m\u001b[0m\n\u001b[1;32m    115\u001b[0m     \u001b[0;32melse\u001b[0m\u001b[0;34m:\u001b[0m\u001b[0;34m\u001b[0m\u001b[0;34m\u001b[0m\u001b[0m\n\u001b[0;32m--> 116\u001b[0;31m         \u001b[0;32mwith\u001b[0m \u001b[0mopen\u001b[0m\u001b[0;34m(\u001b[0m\u001b[0mfilename\u001b[0m\u001b[0;34m,\u001b[0m \u001b[0;34m\"rb\"\u001b[0m\u001b[0;34m)\u001b[0m \u001b[0;32mas\u001b[0m \u001b[0mf\u001b[0m\u001b[0;34m:\u001b[0m\u001b[0;34m\u001b[0m\u001b[0;34m\u001b[0m\u001b[0m\n\u001b[0m\u001b[1;32m    117\u001b[0m             \u001b[0mpeek\u001b[0m \u001b[0;34m=\u001b[0m \u001b[0mf\u001b[0m\u001b[0;34m.\u001b[0m\u001b[0mread\u001b[0m\u001b[0;34m(\u001b[0m\u001b[0mpeeksz\u001b[0m\u001b[0;34m)\u001b[0m\u001b[0;34m\u001b[0m\u001b[0;34m\u001b[0m\u001b[0m\n\u001b[1;32m    118\u001b[0m     \u001b[0;32mif\u001b[0m \u001b[0mpeek\u001b[0m \u001b[0;34m==\u001b[0m \u001b[0;34mb\"PK\\x03\\x04\"\u001b[0m\u001b[0;34m:\u001b[0m \u001b[0;31m# a ZIP file\u001b[0m\u001b[0;34m\u001b[0m\u001b[0;34m\u001b[0m\u001b[0m\n",
            "\u001b[0;31mFileNotFoundError\u001b[0m: [Errno 2] No such file or directory: 'siadata_sample.xlsx'"
          ]
        }
      ]
    },
    {
      "cell_type": "code",
      "metadata": {
        "colab": {
          "base_uri": "https://localhost:8080/",
          "height": 638
        },
        "id": "9-ZsYFyWF8OR",
        "outputId": "d497a7f1-ad9c-4d66-ca75-9c127ca8be64"
      },
      "source": [
        "df"
      ],
      "execution_count": null,
      "outputs": [
        {
          "output_type": "execute_result",
          "data": {
            "text/html": [
              "<div>\n",
              "<style scoped>\n",
              "    .dataframe tbody tr th:only-of-type {\n",
              "        vertical-align: middle;\n",
              "    }\n",
              "\n",
              "    .dataframe tbody tr th {\n",
              "        vertical-align: top;\n",
              "    }\n",
              "\n",
              "    .dataframe thead th {\n",
              "        text-align: right;\n",
              "    }\n",
              "</style>\n",
              "<table border=\"1\" class=\"dataframe\">\n",
              "  <thead>\n",
              "    <tr style=\"text-align: right;\">\n",
              "      <th></th>\n",
              "      <th>gud</th>\n",
              "      <th>year</th>\n",
              "      <th>date</th>\n",
              "      <th>score_filled</th>\n",
              "      <th>financialscore_3ranges</th>\n",
              "      <th>currency_code</th>\n",
              "      <th>month_year</th>\n",
              "    </tr>\n",
              "  </thead>\n",
              "  <tbody>\n",
              "    <tr>\n",
              "      <th>0</th>\n",
              "      <td>588202620</td>\n",
              "      <td>2017</td>\n",
              "      <td>2021-03-10</td>\n",
              "      <td>25</td>\n",
              "      <td>Medium</td>\n",
              "      <td>1000085</td>\n",
              "      <td>3_2021</td>\n",
              "    </tr>\n",
              "    <tr>\n",
              "      <th>1</th>\n",
              "      <td>947251118</td>\n",
              "      <td>2019</td>\n",
              "      <td>2020-11-25</td>\n",
              "      <td>17</td>\n",
              "      <td>medium</td>\n",
              "      <td>1000085</td>\n",
              "      <td>11_2020</td>\n",
              "    </tr>\n",
              "    <tr>\n",
              "      <th>2</th>\n",
              "      <td>932810810</td>\n",
              "      <td>2017</td>\n",
              "      <td>2020-11-25</td>\n",
              "      <td>2</td>\n",
              "      <td>None</td>\n",
              "      <td>1000085</td>\n",
              "      <td>11_2020</td>\n",
              "    </tr>\n",
              "    <tr>\n",
              "      <th>3</th>\n",
              "      <td>538637573</td>\n",
              "      <td>2017</td>\n",
              "      <td>2021-01-21</td>\n",
              "      <td>6</td>\n",
              "      <td>None</td>\n",
              "      <td>1000085</td>\n",
              "      <td>1_2021</td>\n",
              "    </tr>\n",
              "    <tr>\n",
              "      <th>4</th>\n",
              "      <td>584253721</td>\n",
              "      <td>2019</td>\n",
              "      <td>2020-05-18</td>\n",
              "      <td>16</td>\n",
              "      <td>medium</td>\n",
              "      <td>1000085</td>\n",
              "      <td>5_2020</td>\n",
              "    </tr>\n",
              "    <tr>\n",
              "      <th>5</th>\n",
              "      <td>564913338</td>\n",
              "      <td>2017</td>\n",
              "      <td>2021-04-22</td>\n",
              "      <td>1</td>\n",
              "      <td>Medium</td>\n",
              "      <td>1000085</td>\n",
              "      <td>4_2021</td>\n",
              "    </tr>\n",
              "    <tr>\n",
              "      <th>6</th>\n",
              "      <td>513045407</td>\n",
              "      <td>2020</td>\n",
              "      <td>2021-03-10</td>\n",
              "      <td>21</td>\n",
              "      <td>medium</td>\n",
              "      <td>1000085</td>\n",
              "      <td>3_2021</td>\n",
              "    </tr>\n",
              "    <tr>\n",
              "      <th>7</th>\n",
              "      <td>795160584</td>\n",
              "      <td>2019</td>\n",
              "      <td>2020-11-25</td>\n",
              "      <td>6</td>\n",
              "      <td>None</td>\n",
              "      <td>1000085</td>\n",
              "      <td>11_2020</td>\n",
              "    </tr>\n",
              "    <tr>\n",
              "      <th>8</th>\n",
              "      <td>289393728</td>\n",
              "      <td>2019</td>\n",
              "      <td>2020-11-25</td>\n",
              "      <td>8</td>\n",
              "      <td>None</td>\n",
              "      <td>1000085</td>\n",
              "      <td>11_2021</td>\n",
              "    </tr>\n",
              "    <tr>\n",
              "      <th>9</th>\n",
              "      <td>471566780</td>\n",
              "      <td>2017</td>\n",
              "      <td>2021-01-21</td>\n",
              "      <td>5</td>\n",
              "      <td>medium</td>\n",
              "      <td>1000085</td>\n",
              "      <td>1_2021</td>\n",
              "    </tr>\n",
              "    <tr>\n",
              "      <th>10</th>\n",
              "      <td>549608908</td>\n",
              "      <td>2018</td>\n",
              "      <td>2020-05-18</td>\n",
              "      <td>22</td>\n",
              "      <td>Medium</td>\n",
              "      <td>1000085</td>\n",
              "      <td>5_2021</td>\n",
              "    </tr>\n",
              "    <tr>\n",
              "      <th>11</th>\n",
              "      <td>915960236</td>\n",
              "      <td>2018</td>\n",
              "      <td>2021-04-22</td>\n",
              "      <td>15</td>\n",
              "      <td>medium</td>\n",
              "      <td>1000085</td>\n",
              "      <td>1_2021</td>\n",
              "    </tr>\n",
              "    <tr>\n",
              "      <th>12</th>\n",
              "      <td>813675328</td>\n",
              "      <td>2020</td>\n",
              "      <td>2021-03-10</td>\n",
              "      <td>13</td>\n",
              "      <td>None</td>\n",
              "      <td>1000085</td>\n",
              "      <td>3_2021</td>\n",
              "    </tr>\n",
              "    <tr>\n",
              "      <th>13</th>\n",
              "      <td>933325731</td>\n",
              "      <td>2019</td>\n",
              "      <td>2020-11-25</td>\n",
              "      <td>12</td>\n",
              "      <td>None</td>\n",
              "      <td>1000054</td>\n",
              "      <td>11_2021</td>\n",
              "    </tr>\n",
              "    <tr>\n",
              "      <th>14</th>\n",
              "      <td>713307060</td>\n",
              "      <td>2017</td>\n",
              "      <td>2020-11-25</td>\n",
              "      <td>27</td>\n",
              "      <td>medium</td>\n",
              "      <td>1000054</td>\n",
              "      <td>2_2020</td>\n",
              "    </tr>\n",
              "    <tr>\n",
              "      <th>15</th>\n",
              "      <td>439766113</td>\n",
              "      <td>2017</td>\n",
              "      <td>2021-01-21</td>\n",
              "      <td>3</td>\n",
              "      <td>Medium</td>\n",
              "      <td>1000054</td>\n",
              "      <td>1_2021</td>\n",
              "    </tr>\n",
              "    <tr>\n",
              "      <th>16</th>\n",
              "      <td>612204786</td>\n",
              "      <td>2017</td>\n",
              "      <td>2020-05-18</td>\n",
              "      <td>16</td>\n",
              "      <td>medium</td>\n",
              "      <td>1000054</td>\n",
              "      <td>1_2020</td>\n",
              "    </tr>\n",
              "    <tr>\n",
              "      <th>17</th>\n",
              "      <td>468853812</td>\n",
              "      <td>2017</td>\n",
              "      <td>2021-04-22</td>\n",
              "      <td>31</td>\n",
              "      <td>None</td>\n",
              "      <td>1000054</td>\n",
              "      <td>4_2021</td>\n",
              "    </tr>\n",
              "    <tr>\n",
              "      <th>18</th>\n",
              "      <td>917499945</td>\n",
              "      <td>2020</td>\n",
              "      <td>2021-03-10</td>\n",
              "      <td>19</td>\n",
              "      <td>None</td>\n",
              "      <td>1000054</td>\n",
              "      <td>3_2021</td>\n",
              "    </tr>\n",
              "  </tbody>\n",
              "</table>\n",
              "</div>"
            ],
            "text/plain": [
              "          gud  year       date  ...  financialscore_3ranges currency_code  month_year\n",
              "0   588202620  2017 2021-03-10  ...                 Medium        1000085      3_2021\n",
              "1   947251118  2019 2020-11-25  ...                 medium        1000085     11_2020\n",
              "2   932810810  2017 2020-11-25  ...                    None       1000085     11_2020\n",
              "3   538637573  2017 2021-01-21  ...                    None       1000085      1_2021\n",
              "4   584253721  2019 2020-05-18  ...                 medium        1000085      5_2020\n",
              "5   564913338  2017 2021-04-22  ...                 Medium        1000085      4_2021\n",
              "6   513045407  2020 2021-03-10  ...                 medium        1000085      3_2021\n",
              "7   795160584  2019 2020-11-25  ...                    None       1000085     11_2020\n",
              "8   289393728  2019 2020-11-25  ...                    None       1000085     11_2021\n",
              "9   471566780  2017 2021-01-21  ...                 medium        1000085      1_2021\n",
              "10  549608908  2018 2020-05-18  ...                 Medium        1000085      5_2021\n",
              "11  915960236  2018 2021-04-22  ...                 medium        1000085      1_2021\n",
              "12  813675328  2020 2021-03-10  ...                    None       1000085      3_2021\n",
              "13  933325731  2019 2020-11-25  ...                    None       1000054     11_2021\n",
              "14  713307060  2017 2020-11-25  ...                 medium        1000054      2_2020\n",
              "15  439766113  2017 2021-01-21  ...                 Medium        1000054      1_2021\n",
              "16  612204786  2017 2020-05-18  ...                 medium        1000054      1_2020\n",
              "17  468853812  2017 2021-04-22  ...                    None       1000054      4_2021\n",
              "18  917499945  2020 2021-03-10  ...                    None       1000054      3_2021\n",
              "\n",
              "[19 rows x 7 columns]"
            ]
          },
          "metadata": {
            "tags": []
          },
          "execution_count": 5
        }
      ]
    },
    {
      "cell_type": "code",
      "metadata": {
        "id": "_mOjxbhYCqG-"
      },
      "source": [
        "def replace_fs_pipeline(df):\n",
        "  '''Param df : The dataframe where columns are replaced and mapped'''\n",
        "  df = df.copy()\n",
        "  def replace_fs_three(df):\n",
        "  #Range(low,high) function generates betwwen low to high -1\n",
        "    condition_high= {score:'high risk' for score in range(1,11)}\n",
        "    condition_low = {score: 'medium risk' for score in range(11,21) }\n",
        "    conditions = {**condition_high,**condition_low}\n",
        "    df['financialscore_3ranges'] = df['score_filled'].map(lambda x: conditions[x] if x<20 else 'low risk')\n",
        "    return df\n",
        "  def replace_fs_seven(df):\n",
        "    condition_vhr= {score:'VHR' for score in range(0,6)}\n",
        "    condition_hr = {score: 'HR' for score in range(6,10) }\n",
        "    condition_mhr = {score: 'MHR' for score in range(10,16) }\n",
        "    condition_mr = {score: 'MR' for score in range(16,21) }\n",
        "    condition_mlr = {score: 'MLR' for score in range(21,26) }\n",
        "    condition_lr = {score: 'LR' for score in range(26,31) }\n",
        "    #condition_vlr will be mapped as else\n",
        "\n",
        "    conditions = {**condition_vhr,**condition_hr,\n",
        "                  **condition_mhr,**condition_mr,\n",
        "                  **condition_mlr, **condition_lr}\n",
        "    df['financialscore_7ranges'] = df['score_filled'].map(lambda x: conditions[x] if x<30 else 'VLR')\n",
        "    return df\n",
        "\n",
        "\n",
        "  df = replace_fs_three(df)\n",
        "  df = replace_fs_seven(df)\n",
        "  return df\n",
        "\n",
        "  "
      ],
      "execution_count": null,
      "outputs": []
    },
    {
      "cell_type": "code",
      "metadata": {
        "id": "yC-T9DGJG2sG"
      },
      "source": [
        ""
      ],
      "execution_count": null,
      "outputs": []
    },
    {
      "cell_type": "code",
      "metadata": {
        "id": "eQVJP4CaGmWG"
      },
      "source": [
        "gud_df = pd.read_excel(\"sample.xlsx\", sheet_name = 'gud_name' )"
      ],
      "execution_count": null,
      "outputs": []
    },
    {
      "cell_type": "code",
      "metadata": {
        "id": "LTHVLgn-HCQx"
      },
      "source": [
        "gud_name_mapper = dict(zip((gud_df['Supplier GUD'].apply(str)), gud_df['Supplier Name']))\n"
      ],
      "execution_count": null,
      "outputs": []
    },
    {
      "cell_type": "code",
      "metadata": {
        "colab": {
          "base_uri": "https://localhost:8080/",
          "height": 204
        },
        "id": "Mbcgq23cLWWM",
        "outputId": "f77b6835-ef24-4cb5-fab1-8b62f1f7266e"
      },
      "source": [
        "def map_gud_name(df,gud_name_mapper):\n",
        "  df = df.copy()\n",
        "  df['gud'] = df['gud'].apply(str)\n",
        "  try:\n",
        "    df['Supplier Name'] = df['gud'].map(lambda x : gud_name_mapper[x])\n",
        "  except:\n",
        "    pass\n",
        "  return df\n",
        "\n",
        "df = map_gud_name(df,gud_name_mapper)\n",
        "df.head()"
      ],
      "execution_count": null,
      "outputs": [
        {
          "output_type": "execute_result",
          "data": {
            "text/html": [
              "<div>\n",
              "<style scoped>\n",
              "    .dataframe tbody tr th:only-of-type {\n",
              "        vertical-align: middle;\n",
              "    }\n",
              "\n",
              "    .dataframe tbody tr th {\n",
              "        vertical-align: top;\n",
              "    }\n",
              "\n",
              "    .dataframe thead th {\n",
              "        text-align: right;\n",
              "    }\n",
              "</style>\n",
              "<table border=\"1\" class=\"dataframe\">\n",
              "  <thead>\n",
              "    <tr style=\"text-align: right;\">\n",
              "      <th></th>\n",
              "      <th>gud</th>\n",
              "      <th>year</th>\n",
              "      <th>date</th>\n",
              "      <th>score_filled</th>\n",
              "      <th>financialscore_3ranges</th>\n",
              "      <th>currency_code</th>\n",
              "      <th>month_year</th>\n",
              "    </tr>\n",
              "  </thead>\n",
              "  <tbody>\n",
              "    <tr>\n",
              "      <th>0</th>\n",
              "      <td>588202620</td>\n",
              "      <td>2017</td>\n",
              "      <td>2021-03-10</td>\n",
              "      <td>25</td>\n",
              "      <td>Medium</td>\n",
              "      <td>1000085</td>\n",
              "      <td>3_2021</td>\n",
              "    </tr>\n",
              "    <tr>\n",
              "      <th>1</th>\n",
              "      <td>947251118</td>\n",
              "      <td>2019</td>\n",
              "      <td>2020-11-25</td>\n",
              "      <td>17</td>\n",
              "      <td>medium</td>\n",
              "      <td>1000085</td>\n",
              "      <td>11_2020</td>\n",
              "    </tr>\n",
              "    <tr>\n",
              "      <th>2</th>\n",
              "      <td>932810810</td>\n",
              "      <td>2017</td>\n",
              "      <td>2020-11-25</td>\n",
              "      <td>2</td>\n",
              "      <td>None</td>\n",
              "      <td>1000085</td>\n",
              "      <td>11_2020</td>\n",
              "    </tr>\n",
              "    <tr>\n",
              "      <th>3</th>\n",
              "      <td>538637573</td>\n",
              "      <td>2017</td>\n",
              "      <td>2021-01-21</td>\n",
              "      <td>6</td>\n",
              "      <td>None</td>\n",
              "      <td>1000085</td>\n",
              "      <td>1_2021</td>\n",
              "    </tr>\n",
              "    <tr>\n",
              "      <th>4</th>\n",
              "      <td>584253721</td>\n",
              "      <td>2019</td>\n",
              "      <td>2020-05-18</td>\n",
              "      <td>16</td>\n",
              "      <td>medium</td>\n",
              "      <td>1000085</td>\n",
              "      <td>5_2020</td>\n",
              "    </tr>\n",
              "  </tbody>\n",
              "</table>\n",
              "</div>"
            ],
            "text/plain": [
              "         gud  year       date  ...  financialscore_3ranges currency_code  month_year\n",
              "0  588202620  2017 2021-03-10  ...                 Medium        1000085      3_2021\n",
              "1  947251118  2019 2020-11-25  ...                 medium        1000085     11_2020\n",
              "2  932810810  2017 2020-11-25  ...                    None       1000085     11_2020\n",
              "3  538637573  2017 2021-01-21  ...                    None       1000085      1_2021\n",
              "4  584253721  2019 2020-05-18  ...                 medium        1000085      5_2020\n",
              "\n",
              "[5 rows x 7 columns]"
            ]
          },
          "metadata": {
            "tags": []
          },
          "execution_count": 27
        }
      ]
    },
    {
      "cell_type": "code",
      "metadata": {
        "id": "j7TYJx5HPdZo",
        "colab": {
          "base_uri": "https://localhost:8080/",
          "height": 511
        },
        "outputId": "80df1464-4278-4710-a72a-e437f7f3c6dd"
      },
      "source": [
        "cur_df = pd.read_excel(\"/content/score_df.xlsx\", sheet_name = 'Currency' )"
      ],
      "execution_count": 5,
      "outputs": [
        {
          "output_type": "error",
          "ename": "XLRDError",
          "evalue": "ignored",
          "traceback": [
            "\u001b[0;31m---------------------------------------------------------------------------\u001b[0m",
            "\u001b[0;31mValueError\u001b[0m                                Traceback (most recent call last)",
            "\u001b[0;32m/usr/local/lib/python3.7/dist-packages/xlrd/book.py\u001b[0m in \u001b[0;36msheet_by_name\u001b[0;34m(self, sheet_name)\u001b[0m\n\u001b[1;32m    469\u001b[0m         \u001b[0;32mtry\u001b[0m\u001b[0;34m:\u001b[0m\u001b[0;34m\u001b[0m\u001b[0;34m\u001b[0m\u001b[0m\n\u001b[0;32m--> 470\u001b[0;31m             \u001b[0msheetx\u001b[0m \u001b[0;34m=\u001b[0m \u001b[0mself\u001b[0m\u001b[0;34m.\u001b[0m\u001b[0m_sheet_names\u001b[0m\u001b[0;34m.\u001b[0m\u001b[0mindex\u001b[0m\u001b[0;34m(\u001b[0m\u001b[0msheet_name\u001b[0m\u001b[0;34m)\u001b[0m\u001b[0;34m\u001b[0m\u001b[0;34m\u001b[0m\u001b[0m\n\u001b[0m\u001b[1;32m    471\u001b[0m         \u001b[0;32mexcept\u001b[0m \u001b[0mValueError\u001b[0m\u001b[0;34m:\u001b[0m\u001b[0;34m\u001b[0m\u001b[0;34m\u001b[0m\u001b[0m\n",
            "\u001b[0;31mValueError\u001b[0m: 'Currency' is not in list",
            "\nDuring handling of the above exception, another exception occurred:\n",
            "\u001b[0;31mXLRDError\u001b[0m                                 Traceback (most recent call last)",
            "\u001b[0;32m<ipython-input-5-6357c49c75aa>\u001b[0m in \u001b[0;36m<module>\u001b[0;34m()\u001b[0m\n\u001b[0;32m----> 1\u001b[0;31m \u001b[0mcur_df\u001b[0m \u001b[0;34m=\u001b[0m \u001b[0mpd\u001b[0m\u001b[0;34m.\u001b[0m\u001b[0mread_excel\u001b[0m\u001b[0;34m(\u001b[0m\u001b[0;34m\"/content/score_df.xlsx\"\u001b[0m\u001b[0;34m,\u001b[0m \u001b[0msheet_name\u001b[0m \u001b[0;34m=\u001b[0m \u001b[0;34m'Currency'\u001b[0m \u001b[0;34m)\u001b[0m\u001b[0;34m\u001b[0m\u001b[0;34m\u001b[0m\u001b[0m\n\u001b[0m",
            "\u001b[0;32m/usr/local/lib/python3.7/dist-packages/pandas/util/_decorators.py\u001b[0m in \u001b[0;36mwrapper\u001b[0;34m(*args, **kwargs)\u001b[0m\n\u001b[1;32m    294\u001b[0m                 )\n\u001b[1;32m    295\u001b[0m                 \u001b[0mwarnings\u001b[0m\u001b[0;34m.\u001b[0m\u001b[0mwarn\u001b[0m\u001b[0;34m(\u001b[0m\u001b[0mmsg\u001b[0m\u001b[0;34m,\u001b[0m \u001b[0mFutureWarning\u001b[0m\u001b[0;34m,\u001b[0m \u001b[0mstacklevel\u001b[0m\u001b[0;34m=\u001b[0m\u001b[0mstacklevel\u001b[0m\u001b[0;34m)\u001b[0m\u001b[0;34m\u001b[0m\u001b[0;34m\u001b[0m\u001b[0m\n\u001b[0;32m--> 296\u001b[0;31m             \u001b[0;32mreturn\u001b[0m \u001b[0mfunc\u001b[0m\u001b[0;34m(\u001b[0m\u001b[0;34m*\u001b[0m\u001b[0margs\u001b[0m\u001b[0;34m,\u001b[0m \u001b[0;34m**\u001b[0m\u001b[0mkwargs\u001b[0m\u001b[0;34m)\u001b[0m\u001b[0;34m\u001b[0m\u001b[0;34m\u001b[0m\u001b[0m\n\u001b[0m\u001b[1;32m    297\u001b[0m \u001b[0;34m\u001b[0m\u001b[0m\n\u001b[1;32m    298\u001b[0m         \u001b[0;32mreturn\u001b[0m \u001b[0mwrapper\u001b[0m\u001b[0;34m\u001b[0m\u001b[0;34m\u001b[0m\u001b[0m\n",
            "\u001b[0;32m/usr/local/lib/python3.7/dist-packages/pandas/io/excel/_base.py\u001b[0m in \u001b[0;36mread_excel\u001b[0;34m(io, sheet_name, header, names, index_col, usecols, squeeze, dtype, engine, converters, true_values, false_values, skiprows, nrows, na_values, keep_default_na, na_filter, verbose, parse_dates, date_parser, thousands, comment, skipfooter, convert_float, mangle_dupe_cols)\u001b[0m\n\u001b[1;32m    332\u001b[0m         \u001b[0mskipfooter\u001b[0m\u001b[0;34m=\u001b[0m\u001b[0mskipfooter\u001b[0m\u001b[0;34m,\u001b[0m\u001b[0;34m\u001b[0m\u001b[0;34m\u001b[0m\u001b[0m\n\u001b[1;32m    333\u001b[0m         \u001b[0mconvert_float\u001b[0m\u001b[0;34m=\u001b[0m\u001b[0mconvert_float\u001b[0m\u001b[0;34m,\u001b[0m\u001b[0;34m\u001b[0m\u001b[0;34m\u001b[0m\u001b[0m\n\u001b[0;32m--> 334\u001b[0;31m         \u001b[0mmangle_dupe_cols\u001b[0m\u001b[0;34m=\u001b[0m\u001b[0mmangle_dupe_cols\u001b[0m\u001b[0;34m,\u001b[0m\u001b[0;34m\u001b[0m\u001b[0;34m\u001b[0m\u001b[0m\n\u001b[0m\u001b[1;32m    335\u001b[0m     )\n\u001b[1;32m    336\u001b[0m \u001b[0;34m\u001b[0m\u001b[0m\n",
            "\u001b[0;32m/usr/local/lib/python3.7/dist-packages/pandas/io/excel/_base.py\u001b[0m in \u001b[0;36mparse\u001b[0;34m(self, sheet_name, header, names, index_col, usecols, squeeze, converters, true_values, false_values, skiprows, nrows, na_values, parse_dates, date_parser, thousands, comment, skipfooter, convert_float, mangle_dupe_cols, **kwds)\u001b[0m\n\u001b[1;32m    924\u001b[0m             \u001b[0mconvert_float\u001b[0m\u001b[0;34m=\u001b[0m\u001b[0mconvert_float\u001b[0m\u001b[0;34m,\u001b[0m\u001b[0;34m\u001b[0m\u001b[0;34m\u001b[0m\u001b[0m\n\u001b[1;32m    925\u001b[0m             \u001b[0mmangle_dupe_cols\u001b[0m\u001b[0;34m=\u001b[0m\u001b[0mmangle_dupe_cols\u001b[0m\u001b[0;34m,\u001b[0m\u001b[0;34m\u001b[0m\u001b[0;34m\u001b[0m\u001b[0m\n\u001b[0;32m--> 926\u001b[0;31m             \u001b[0;34m**\u001b[0m\u001b[0mkwds\u001b[0m\u001b[0;34m,\u001b[0m\u001b[0;34m\u001b[0m\u001b[0;34m\u001b[0m\u001b[0m\n\u001b[0m\u001b[1;32m    927\u001b[0m         )\n\u001b[1;32m    928\u001b[0m \u001b[0;34m\u001b[0m\u001b[0m\n",
            "\u001b[0;32m/usr/local/lib/python3.7/dist-packages/pandas/io/excel/_base.py\u001b[0m in \u001b[0;36mparse\u001b[0;34m(self, sheet_name, header, names, index_col, usecols, squeeze, dtype, true_values, false_values, skiprows, nrows, na_values, verbose, parse_dates, date_parser, thousands, comment, skipfooter, convert_float, mangle_dupe_cols, **kwds)\u001b[0m\n\u001b[1;32m    437\u001b[0m \u001b[0;34m\u001b[0m\u001b[0m\n\u001b[1;32m    438\u001b[0m             \u001b[0;32mif\u001b[0m \u001b[0misinstance\u001b[0m\u001b[0;34m(\u001b[0m\u001b[0masheetname\u001b[0m\u001b[0;34m,\u001b[0m \u001b[0mstr\u001b[0m\u001b[0;34m)\u001b[0m\u001b[0;34m:\u001b[0m\u001b[0;34m\u001b[0m\u001b[0;34m\u001b[0m\u001b[0m\n\u001b[0;32m--> 439\u001b[0;31m                 \u001b[0msheet\u001b[0m \u001b[0;34m=\u001b[0m \u001b[0mself\u001b[0m\u001b[0;34m.\u001b[0m\u001b[0mget_sheet_by_name\u001b[0m\u001b[0;34m(\u001b[0m\u001b[0masheetname\u001b[0m\u001b[0;34m)\u001b[0m\u001b[0;34m\u001b[0m\u001b[0;34m\u001b[0m\u001b[0m\n\u001b[0m\u001b[1;32m    440\u001b[0m             \u001b[0;32melse\u001b[0m\u001b[0;34m:\u001b[0m  \u001b[0;31m# assume an integer if not a string\u001b[0m\u001b[0;34m\u001b[0m\u001b[0;34m\u001b[0m\u001b[0m\n\u001b[1;32m    441\u001b[0m                 \u001b[0msheet\u001b[0m \u001b[0;34m=\u001b[0m \u001b[0mself\u001b[0m\u001b[0;34m.\u001b[0m\u001b[0mget_sheet_by_index\u001b[0m\u001b[0;34m(\u001b[0m\u001b[0masheetname\u001b[0m\u001b[0;34m)\u001b[0m\u001b[0;34m\u001b[0m\u001b[0;34m\u001b[0m\u001b[0m\n",
            "\u001b[0;32m/usr/local/lib/python3.7/dist-packages/pandas/io/excel/_xlrd.py\u001b[0m in \u001b[0;36mget_sheet_by_name\u001b[0;34m(self, name)\u001b[0m\n\u001b[1;32m     42\u001b[0m \u001b[0;34m\u001b[0m\u001b[0m\n\u001b[1;32m     43\u001b[0m     \u001b[0;32mdef\u001b[0m \u001b[0mget_sheet_by_name\u001b[0m\u001b[0;34m(\u001b[0m\u001b[0mself\u001b[0m\u001b[0;34m,\u001b[0m \u001b[0mname\u001b[0m\u001b[0;34m)\u001b[0m\u001b[0;34m:\u001b[0m\u001b[0;34m\u001b[0m\u001b[0;34m\u001b[0m\u001b[0m\n\u001b[0;32m---> 44\u001b[0;31m         \u001b[0;32mreturn\u001b[0m \u001b[0mself\u001b[0m\u001b[0;34m.\u001b[0m\u001b[0mbook\u001b[0m\u001b[0;34m.\u001b[0m\u001b[0msheet_by_name\u001b[0m\u001b[0;34m(\u001b[0m\u001b[0mname\u001b[0m\u001b[0;34m)\u001b[0m\u001b[0;34m\u001b[0m\u001b[0;34m\u001b[0m\u001b[0m\n\u001b[0m\u001b[1;32m     45\u001b[0m \u001b[0;34m\u001b[0m\u001b[0m\n\u001b[1;32m     46\u001b[0m     \u001b[0;32mdef\u001b[0m \u001b[0mget_sheet_by_index\u001b[0m\u001b[0;34m(\u001b[0m\u001b[0mself\u001b[0m\u001b[0;34m,\u001b[0m \u001b[0mindex\u001b[0m\u001b[0;34m)\u001b[0m\u001b[0;34m:\u001b[0m\u001b[0;34m\u001b[0m\u001b[0;34m\u001b[0m\u001b[0m\n",
            "\u001b[0;32m/usr/local/lib/python3.7/dist-packages/xlrd/book.py\u001b[0m in \u001b[0;36msheet_by_name\u001b[0;34m(self, sheet_name)\u001b[0m\n\u001b[1;32m    470\u001b[0m             \u001b[0msheetx\u001b[0m \u001b[0;34m=\u001b[0m \u001b[0mself\u001b[0m\u001b[0;34m.\u001b[0m\u001b[0m_sheet_names\u001b[0m\u001b[0;34m.\u001b[0m\u001b[0mindex\u001b[0m\u001b[0;34m(\u001b[0m\u001b[0msheet_name\u001b[0m\u001b[0;34m)\u001b[0m\u001b[0;34m\u001b[0m\u001b[0;34m\u001b[0m\u001b[0m\n\u001b[1;32m    471\u001b[0m         \u001b[0;32mexcept\u001b[0m \u001b[0mValueError\u001b[0m\u001b[0;34m:\u001b[0m\u001b[0;34m\u001b[0m\u001b[0;34m\u001b[0m\u001b[0m\n\u001b[0;32m--> 472\u001b[0;31m             \u001b[0;32mraise\u001b[0m \u001b[0mXLRDError\u001b[0m\u001b[0;34m(\u001b[0m\u001b[0;34m'No sheet named <%r>'\u001b[0m \u001b[0;34m%\u001b[0m \u001b[0msheet_name\u001b[0m\u001b[0;34m)\u001b[0m\u001b[0;34m\u001b[0m\u001b[0;34m\u001b[0m\u001b[0m\n\u001b[0m\u001b[1;32m    473\u001b[0m         \u001b[0;32mreturn\u001b[0m \u001b[0mself\u001b[0m\u001b[0;34m.\u001b[0m\u001b[0msheet_by_index\u001b[0m\u001b[0;34m(\u001b[0m\u001b[0msheetx\u001b[0m\u001b[0;34m)\u001b[0m\u001b[0;34m\u001b[0m\u001b[0;34m\u001b[0m\u001b[0m\n\u001b[1;32m    474\u001b[0m \u001b[0;34m\u001b[0m\u001b[0m\n",
            "\u001b[0;31mXLRDError\u001b[0m: No sheet named <'Currency'>"
          ]
        }
      ]
    },
    {
      "cell_type": "code",
      "metadata": {
        "colab": {
          "base_uri": "https://localhost:8080/",
          "height": 204
        },
        "id": "8rDlxfU6WqeD",
        "outputId": "76b94cb2-f318-48af-8ec9-74ef0fafca79"
      },
      "source": [
        "df.tail()"
      ],
      "execution_count": null,
      "outputs": [
        {
          "output_type": "execute_result",
          "data": {
            "text/html": [
              "<div>\n",
              "<style scoped>\n",
              "    .dataframe tbody tr th:only-of-type {\n",
              "        vertical-align: middle;\n",
              "    }\n",
              "\n",
              "    .dataframe tbody tr th {\n",
              "        vertical-align: top;\n",
              "    }\n",
              "\n",
              "    .dataframe thead th {\n",
              "        text-align: right;\n",
              "    }\n",
              "</style>\n",
              "<table border=\"1\" class=\"dataframe\">\n",
              "  <thead>\n",
              "    <tr style=\"text-align: right;\">\n",
              "      <th></th>\n",
              "      <th>gud</th>\n",
              "      <th>year</th>\n",
              "      <th>date</th>\n",
              "      <th>score_filled</th>\n",
              "      <th>financialscore_3ranges</th>\n",
              "      <th>currency_code</th>\n",
              "      <th>month_year</th>\n",
              "    </tr>\n",
              "  </thead>\n",
              "  <tbody>\n",
              "    <tr>\n",
              "      <th>14</th>\n",
              "      <td>713307060</td>\n",
              "      <td>2017</td>\n",
              "      <td>2020-11-25</td>\n",
              "      <td>27</td>\n",
              "      <td>medium</td>\n",
              "      <td>1000054</td>\n",
              "      <td>2_2020</td>\n",
              "    </tr>\n",
              "    <tr>\n",
              "      <th>15</th>\n",
              "      <td>439766113</td>\n",
              "      <td>2017</td>\n",
              "      <td>2021-01-21</td>\n",
              "      <td>3</td>\n",
              "      <td>Medium</td>\n",
              "      <td>1000054</td>\n",
              "      <td>1_2021</td>\n",
              "    </tr>\n",
              "    <tr>\n",
              "      <th>16</th>\n",
              "      <td>612204786</td>\n",
              "      <td>2017</td>\n",
              "      <td>2020-05-18</td>\n",
              "      <td>16</td>\n",
              "      <td>medium</td>\n",
              "      <td>1000054</td>\n",
              "      <td>1_2020</td>\n",
              "    </tr>\n",
              "    <tr>\n",
              "      <th>17</th>\n",
              "      <td>468853812</td>\n",
              "      <td>2017</td>\n",
              "      <td>2021-04-22</td>\n",
              "      <td>31</td>\n",
              "      <td>None</td>\n",
              "      <td>1000054</td>\n",
              "      <td>4_2021</td>\n",
              "    </tr>\n",
              "    <tr>\n",
              "      <th>18</th>\n",
              "      <td>917499945</td>\n",
              "      <td>2020</td>\n",
              "      <td>2021-03-10</td>\n",
              "      <td>19</td>\n",
              "      <td>None</td>\n",
              "      <td>1000054</td>\n",
              "      <td>3_2021</td>\n",
              "    </tr>\n",
              "  </tbody>\n",
              "</table>\n",
              "</div>"
            ],
            "text/plain": [
              "          gud  year       date  ...  financialscore_3ranges currency_code month_year\n",
              "14  713307060  2017 2020-11-25  ...                 medium        1000054     2_2020\n",
              "15  439766113  2017 2021-01-21  ...                 Medium        1000054     1_2021\n",
              "16  612204786  2017 2020-05-18  ...                 medium        1000054     1_2020\n",
              "17  468853812  2017 2021-04-22  ...                    None       1000054     4_2021\n",
              "18  917499945  2020 2021-03-10  ...                    None       1000054     3_2021\n",
              "\n",
              "[5 rows x 7 columns]"
            ]
          },
          "metadata": {
            "tags": []
          },
          "execution_count": 50
        }
      ]
    },
    {
      "cell_type": "code",
      "metadata": {
        "id": "646SzZ5kVQlx"
      },
      "source": [
        "cur_df = cur_df.applymap(str)\n",
        "df['currency_code'] = df['currency_code'].apply(str)"
      ],
      "execution_count": null,
      "outputs": []
    },
    {
      "cell_type": "code",
      "metadata": {
        "id": "OWHXluJiVXfE"
      },
      "source": [
        "merged_df = pd.merge(df, cur_df, how='left', left_on=['currency_code'], right_on=['Currency_Code'])"
      ],
      "execution_count": null,
      "outputs": []
    },
    {
      "cell_type": "code",
      "metadata": {
        "id": "jm1dvbaMSKHG"
      },
      "source": [
        "merged = pd.merge(df, repeat_df, how='left', left_on=[''], right_on=[''])"
      ],
      "execution_count": null,
      "outputs": []
    },
    {
      "cell_type": "code",
      "metadata": {
        "id": "P6ebNRd2Tcow"
      },
      "source": [
        "def map_count(df):\n",
        "  df = df.copy()\n",
        "  mapper_count = df.groupby('gud').gud.count()\n",
        "  mapper_dict = mapper_count.to_dict()\n",
        "  df['count'] = df['gud'].map(mapper_dict)\n",
        "  return df"
      ],
      "execution_count": null,
      "outputs": []
    },
    {
      "cell_type": "code",
      "metadata": {
        "id": "2AFD-KQBLr1b"
      },
      "source": [
        "score_df = pd.read_excel('/content/score_df.xlsx')"
      ],
      "execution_count": 26,
      "outputs": []
    },
    {
      "cell_type": "code",
      "metadata": {
        "id": "LQgRW0qVNU8T",
        "colab": {
          "base_uri": "https://localhost:8080/"
        },
        "outputId": "90599cda-95ef-4fdd-d7a5-789d9efaad70"
      },
      "source": [
        "score_df.columns"
      ],
      "execution_count": 27,
      "outputs": [
        {
          "output_type": "execute_result",
          "data": {
            "text/plain": [
              "Index(['gud ', 'Year ', 'Score_filled'], dtype='object')"
            ]
          },
          "metadata": {
            "tags": []
          },
          "execution_count": 27
        }
      ]
    },
    {
      "cell_type": "code",
      "metadata": {
        "id": "iApsU67lNbru"
      },
      "source": [
        "data = [[602654994, 2020,12], [874896522, 2020,16]]\n",
        " \n",
        "# Create the pandas DataFrame\n",
        "fill_df = pd.DataFrame(data, columns = ['gud ', 'Year','Score_filled'])"
      ],
      "execution_count": null,
      "outputs": []
    },
    {
      "cell_type": "code",
      "metadata": {
        "id": "vD2DP9ixOATw"
      },
      "source": [
        "merged_df = pd.merge(score, fill_df, how='left', left_on=['gud '], right_on=['gud '])"
      ],
      "execution_count": null,
      "outputs": []
    },
    {
      "cell_type": "code",
      "metadata": {
        "id": "A3lMV9iePyIH"
      },
      "source": [
        ""
      ],
      "execution_count": null,
      "outputs": []
    },
    {
      "cell_type": "code",
      "metadata": {
        "id": "VJ-wkHaJQehD"
      },
      "source": [
        "data = [['60265499', 2020,12], ['', 2020,16]]\n",
        " \n",
        "# Create the pandas DataFrame\n",
        "prepend_df = pd.DataFrame(data, columns = ['gud', 'Year','Score_filled'])\n"
      ],
      "execution_count": null,
      "outputs": []
    },
    {
      "cell_type": "code",
      "metadata": {
        "colab": {
          "base_uri": "https://localhost:8080/",
          "height": 111
        },
        "id": "2iE0kuK2Z1kb",
        "outputId": "0e2e17e8-ee60-4d29-8375-b30d5614b55d"
      },
      "source": [
        "prepend_df.head()"
      ],
      "execution_count": null,
      "outputs": [
        {
          "output_type": "execute_result",
          "data": {
            "text/html": [
              "<div>\n",
              "<style scoped>\n",
              "    .dataframe tbody tr th:only-of-type {\n",
              "        vertical-align: middle;\n",
              "    }\n",
              "\n",
              "    .dataframe tbody tr th {\n",
              "        vertical-align: top;\n",
              "    }\n",
              "\n",
              "    .dataframe thead th {\n",
              "        text-align: right;\n",
              "    }\n",
              "</style>\n",
              "<table border=\"1\" class=\"dataframe\">\n",
              "  <thead>\n",
              "    <tr style=\"text-align: right;\">\n",
              "      <th></th>\n",
              "      <th>gud</th>\n",
              "      <th>Year</th>\n",
              "      <th>Score_filled</th>\n",
              "    </tr>\n",
              "  </thead>\n",
              "  <tbody>\n",
              "    <tr>\n",
              "      <th>0</th>\n",
              "      <td>60265499</td>\n",
              "      <td>2020</td>\n",
              "      <td>12</td>\n",
              "    </tr>\n",
              "    <tr>\n",
              "      <th>1</th>\n",
              "      <td></td>\n",
              "      <td>2020</td>\n",
              "      <td>16</td>\n",
              "    </tr>\n",
              "  </tbody>\n",
              "</table>\n",
              "</div>"
            ],
            "text/plain": [
              "        gud  Year  Score_filled\n",
              "0  60265499  2020            12\n",
              "1            2020            16"
            ]
          },
          "metadata": {
            "tags": []
          },
          "execution_count": 53
        }
      ]
    },
    {
      "cell_type": "code",
      "metadata": {
        "id": "m9mGh148a-wx"
      },
      "source": [
        "#check string if its 9 digit long\n",
        "#Assumes gud are string\n",
        "def is_less_nine(gud):\n",
        "  if len(gud.strip())>=9:\n",
        "    return False\n",
        "  return True\n",
        "def append(gud):\n",
        "  if is_less_nine(gud):\n",
        "    toAppend = 9-len(gud.strip())\n",
        "    gud = toAppend*'0' +gud\n",
        "  else:\n",
        "    pass\n",
        "  return gud\n",
        "\n"
      ],
      "execution_count": null,
      "outputs": []
    },
    {
      "cell_type": "code",
      "metadata": {
        "id": "WzwxIf-TdCBN"
      },
      "source": [
        "prepend_df['gud'] = prepend_df['gud'].apply(lambda x : append(x))"
      ],
      "execution_count": null,
      "outputs": []
    },
    {
      "cell_type": "code",
      "metadata": {
        "colab": {
          "base_uri": "https://localhost:8080/",
          "height": 111
        },
        "id": "0glwHWhKdZkv",
        "outputId": "da4dd391-da97-4fa6-94d7-f9528d306886"
      },
      "source": [
        "prepend_df"
      ],
      "execution_count": null,
      "outputs": [
        {
          "output_type": "execute_result",
          "data": {
            "text/html": [
              "<div>\n",
              "<style scoped>\n",
              "    .dataframe tbody tr th:only-of-type {\n",
              "        vertical-align: middle;\n",
              "    }\n",
              "\n",
              "    .dataframe tbody tr th {\n",
              "        vertical-align: top;\n",
              "    }\n",
              "\n",
              "    .dataframe thead th {\n",
              "        text-align: right;\n",
              "    }\n",
              "</style>\n",
              "<table border=\"1\" class=\"dataframe\">\n",
              "  <thead>\n",
              "    <tr style=\"text-align: right;\">\n",
              "      <th></th>\n",
              "      <th>gud</th>\n",
              "      <th>Year</th>\n",
              "      <th>Score_filled</th>\n",
              "    </tr>\n",
              "  </thead>\n",
              "  <tbody>\n",
              "    <tr>\n",
              "      <th>0</th>\n",
              "      <td>060265499</td>\n",
              "      <td>2020</td>\n",
              "      <td>12</td>\n",
              "    </tr>\n",
              "    <tr>\n",
              "      <th>1</th>\n",
              "      <td>000000000</td>\n",
              "      <td>2020</td>\n",
              "      <td>16</td>\n",
              "    </tr>\n",
              "  </tbody>\n",
              "</table>\n",
              "</div>"
            ],
            "text/plain": [
              "         gud  Year  Score_filled\n",
              "0  060265499  2020            12\n",
              "1  000000000  2020            16"
            ]
          },
          "metadata": {
            "tags": []
          },
          "execution_count": 56
        }
      ]
    },
    {
      "cell_type": "code",
      "metadata": {
        "id": "MWM1ts0vb6pK"
      },
      "source": [
        "def fill_score(df):\n",
        "  def repeat_score(df):\n",
        "    '''takes in df group object- grouped by year and gud'''\n",
        "    #print(df['Year '])\n",
        "    latest = df.sort_values(by = 'Year ',ascending = False)['Score_filled'].iloc[0] \n",
        "    df['Score_filled'] = latest\n",
        "    return df\n",
        "  \n",
        "  dfs = [repeat_score(v) for k,v in df.groupby(['gud '])]\n",
        "  return pd.concat(dfs)\n",
        "\n",
        "\n",
        "\n"
      ],
      "execution_count": 68,
      "outputs": []
    },
    {
      "cell_type": "code",
      "metadata": {
        "colab": {
          "base_uri": "https://localhost:8080/",
          "height": 886
        },
        "id": "SkXxYCAa5pgV",
        "outputId": "ad91a0b4-d481-4b6b-95b0-2d84c93a3e69"
      },
      "source": [
        "fill_score(score_df)"
      ],
      "execution_count": 69,
      "outputs": [
        {
          "output_type": "execute_result",
          "data": {
            "text/html": [
              "<div>\n",
              "<style scoped>\n",
              "    .dataframe tbody tr th:only-of-type {\n",
              "        vertical-align: middle;\n",
              "    }\n",
              "\n",
              "    .dataframe tbody tr th {\n",
              "        vertical-align: top;\n",
              "    }\n",
              "\n",
              "    .dataframe thead th {\n",
              "        text-align: right;\n",
              "    }\n",
              "</style>\n",
              "<table border=\"1\" class=\"dataframe\">\n",
              "  <thead>\n",
              "    <tr style=\"text-align: right;\">\n",
              "      <th></th>\n",
              "      <th>gud</th>\n",
              "      <th>Year</th>\n",
              "      <th>Score_filled</th>\n",
              "    </tr>\n",
              "  </thead>\n",
              "  <tbody>\n",
              "    <tr>\n",
              "      <th>6</th>\n",
              "      <td>149384375</td>\n",
              "      <td>2020</td>\n",
              "      <td>20</td>\n",
              "    </tr>\n",
              "    <tr>\n",
              "      <th>7</th>\n",
              "      <td>149384375</td>\n",
              "      <td>2020</td>\n",
              "      <td>20</td>\n",
              "    </tr>\n",
              "    <tr>\n",
              "      <th>8</th>\n",
              "      <td>149384375</td>\n",
              "      <td>2020</td>\n",
              "      <td>20</td>\n",
              "    </tr>\n",
              "    <tr>\n",
              "      <th>11</th>\n",
              "      <td>208258057</td>\n",
              "      <td>2019</td>\n",
              "      <td>19</td>\n",
              "    </tr>\n",
              "    <tr>\n",
              "      <th>12</th>\n",
              "      <td>208258057</td>\n",
              "      <td>2019</td>\n",
              "      <td>19</td>\n",
              "    </tr>\n",
              "    <tr>\n",
              "      <th>13</th>\n",
              "      <td>208258057</td>\n",
              "      <td>2018</td>\n",
              "      <td>19</td>\n",
              "    </tr>\n",
              "    <tr>\n",
              "      <th>14</th>\n",
              "      <td>208258057</td>\n",
              "      <td>2018</td>\n",
              "      <td>19</td>\n",
              "    </tr>\n",
              "    <tr>\n",
              "      <th>24</th>\n",
              "      <td>246766148</td>\n",
              "      <td>2019</td>\n",
              "      <td>26</td>\n",
              "    </tr>\n",
              "    <tr>\n",
              "      <th>25</th>\n",
              "      <td>246766148</td>\n",
              "      <td>2019</td>\n",
              "      <td>26</td>\n",
              "    </tr>\n",
              "    <tr>\n",
              "      <th>26</th>\n",
              "      <td>246766148</td>\n",
              "      <td>2019</td>\n",
              "      <td>26</td>\n",
              "    </tr>\n",
              "    <tr>\n",
              "      <th>18</th>\n",
              "      <td>254586565</td>\n",
              "      <td>2018</td>\n",
              "      <td>30</td>\n",
              "    </tr>\n",
              "    <tr>\n",
              "      <th>19</th>\n",
              "      <td>346589151</td>\n",
              "      <td>2018</td>\n",
              "      <td>25</td>\n",
              "    </tr>\n",
              "    <tr>\n",
              "      <th>20</th>\n",
              "      <td>393957958</td>\n",
              "      <td>2018</td>\n",
              "      <td>21</td>\n",
              "    </tr>\n",
              "    <tr>\n",
              "      <th>23</th>\n",
              "      <td>430801691</td>\n",
              "      <td>2019</td>\n",
              "      <td>29</td>\n",
              "    </tr>\n",
              "    <tr>\n",
              "      <th>15</th>\n",
              "      <td>534897309</td>\n",
              "      <td>2018</td>\n",
              "      <td>18</td>\n",
              "    </tr>\n",
              "    <tr>\n",
              "      <th>16</th>\n",
              "      <td>534897309</td>\n",
              "      <td>2018</td>\n",
              "      <td>18</td>\n",
              "    </tr>\n",
              "    <tr>\n",
              "      <th>17</th>\n",
              "      <td>534897309</td>\n",
              "      <td>2018</td>\n",
              "      <td>18</td>\n",
              "    </tr>\n",
              "    <tr>\n",
              "      <th>22</th>\n",
              "      <td>563036917</td>\n",
              "      <td>2019</td>\n",
              "      <td>16</td>\n",
              "    </tr>\n",
              "    <tr>\n",
              "      <th>0</th>\n",
              "      <td>602654994</td>\n",
              "      <td>2020</td>\n",
              "      <td>12</td>\n",
              "    </tr>\n",
              "    <tr>\n",
              "      <th>9</th>\n",
              "      <td>694100793</td>\n",
              "      <td>2019</td>\n",
              "      <td>12</td>\n",
              "    </tr>\n",
              "    <tr>\n",
              "      <th>10</th>\n",
              "      <td>745288035</td>\n",
              "      <td>2019</td>\n",
              "      <td>16</td>\n",
              "    </tr>\n",
              "    <tr>\n",
              "      <th>21</th>\n",
              "      <td>840134414</td>\n",
              "      <td>2019</td>\n",
              "      <td>14</td>\n",
              "    </tr>\n",
              "    <tr>\n",
              "      <th>1</th>\n",
              "      <td>874896522</td>\n",
              "      <td>2020</td>\n",
              "      <td>12</td>\n",
              "    </tr>\n",
              "    <tr>\n",
              "      <th>2</th>\n",
              "      <td>874896522</td>\n",
              "      <td>2020</td>\n",
              "      <td>12</td>\n",
              "    </tr>\n",
              "    <tr>\n",
              "      <th>3</th>\n",
              "      <td>874896522</td>\n",
              "      <td>2020</td>\n",
              "      <td>12</td>\n",
              "    </tr>\n",
              "    <tr>\n",
              "      <th>4</th>\n",
              "      <td>874896522</td>\n",
              "      <td>2020</td>\n",
              "      <td>12</td>\n",
              "    </tr>\n",
              "    <tr>\n",
              "      <th>5</th>\n",
              "      <td>874896522</td>\n",
              "      <td>2020</td>\n",
              "      <td>12</td>\n",
              "    </tr>\n",
              "  </tbody>\n",
              "</table>\n",
              "</div>"
            ],
            "text/plain": [
              "         gud   Year   Score_filled\n",
              "6   149384375   2020            20\n",
              "7   149384375   2020            20\n",
              "8   149384375   2020            20\n",
              "11  208258057   2019            19\n",
              "12  208258057   2019            19\n",
              "13  208258057   2018            19\n",
              "14  208258057   2018            19\n",
              "24  246766148   2019            26\n",
              "25  246766148   2019            26\n",
              "26  246766148   2019            26\n",
              "18  254586565   2018            30\n",
              "19  346589151   2018            25\n",
              "20  393957958   2018            21\n",
              "23  430801691   2019            29\n",
              "15  534897309   2018            18\n",
              "16  534897309   2018            18\n",
              "17  534897309   2018            18\n",
              "22  563036917   2019            16\n",
              "0   602654994   2020            12\n",
              "9   694100793   2019            12\n",
              "10  745288035   2019            16\n",
              "21  840134414   2019            14\n",
              "1   874896522   2020            12\n",
              "2   874896522   2020            12\n",
              "3   874896522   2020            12\n",
              "4   874896522   2020            12\n",
              "5   874896522   2020            12"
            ]
          },
          "metadata": {
            "tags": []
          },
          "execution_count": 69
        }
      ]
    },
    {
      "cell_type": "code",
      "metadata": {
        "id": "IjWqMIea2UVJ"
      },
      "source": [
        ""
      ],
      "execution_count": 67,
      "outputs": []
    },
    {
      "cell_type": "code",
      "metadata": {
        "colab": {
          "base_uri": "https://localhost:8080/"
        },
        "id": "QWHcmOOlzVVB",
        "outputId": "c07bc01b-e2f1-422c-d4c6-ad36681fb05a"
      },
      "source": [
        "score_df['Year '].sort_values(ascending = False)[0]"
      ],
      "execution_count": 19,
      "outputs": [
        {
          "output_type": "execute_result",
          "data": {
            "text/plain": [
              "2020"
            ]
          },
          "metadata": {
            "tags": []
          },
          "execution_count": 19
        }
      ]
    }
  ]
}