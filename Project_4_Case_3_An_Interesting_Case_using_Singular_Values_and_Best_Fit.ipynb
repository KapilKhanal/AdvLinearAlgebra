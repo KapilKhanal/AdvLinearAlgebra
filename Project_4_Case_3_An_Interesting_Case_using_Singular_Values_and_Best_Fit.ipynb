{
  "nbformat": 4,
  "nbformat_minor": 0,
  "metadata": {
    "colab": {
      "name": "Copy of Project 4:  Case 3 - An Interesting Case using Singular Values and Best Fit.ipynb",
      "provenance": [],
      "include_colab_link": true
    },
    "kernelspec": {
      "name": "python3",
      "display_name": "Python 3"
    }
  },
  "cells": [
    {
      "cell_type": "markdown",
      "metadata": {
        "id": "view-in-github",
        "colab_type": "text"
      },
      "source": [
        "<a href=\"https://colab.research.google.com/github/KapilKhanal/AdvLinearAlgebra/blob/master/Project_4_Case_3_An_Interesting_Case_using_Singular_Values_and_Best_Fit.ipynb\" target=\"_parent\"><img src=\"https://colab.research.google.com/assets/colab-badge.svg\" alt=\"Open In Colab\"/></a>"
      ]
    },
    {
      "cell_type": "code",
      "metadata": {
        "id": "Hd7VYbrPdIg7",
        "colab_type": "code",
        "colab": {}
      },
      "source": [
        "#  Libraries that we'll need:\n",
        "import numpy as np\n",
        "import sympy as sym\n",
        "#from scipy import misc\n",
        "from scipy import linalg\n",
        "#from PIL import Image\n",
        "#import imageio\n",
        "import matplotlib.pyplot as plt\n",
        "# importing \"random\" for random operations \n",
        "import random "
      ],
      "execution_count": 0,
      "outputs": []
    },
    {
      "cell_type": "markdown",
      "metadata": {
        "id": "90XAt6FGd-y7",
        "colab_type": "text"
      },
      "source": [
        "#  Singular Value Decomposition and Best Fit\n",
        "\n",
        "We look at some data generated here from three sources:\n",
        "\n",
        "*   Case 0:  A known polynomial function $f(x) = 4 - 3x^2 + 5x^6$\n",
        "*   Case 1:  A known trigonometric function $f(x) = 4 - 2\\cos(x) + \\cos^2 (x)$\n",
        "*   Case 2:  A matrix of data $M$ (specified below) with unknown source function\n",
        "*   Case 3:  An interesting case."
      ]
    },
    {
      "cell_type": "markdown",
      "metadata": {
        "id": "zrZ6Bf0qeQ9n",
        "colab_type": "text"
      },
      "source": [
        "# Overview for Case 3:  An interesting case:\n",
        "\n",
        "For Case 3, you have the option of completing one of the following tasks:\n",
        "\n",
        "* **Option A:**  Re-do Case 0 or Case 1 by adding noise to the function.\n",
        "\n",
        "Using $f$ + (2*random.random()-1)  will add a random number between -1 and 1 to the value of $f$.  How much noise can your method absorb and still produce accurate results?  (e.g. noise with a range of $-1$ to $1$?  noise from a range of $-5$ to $5$?  noise from $-30$ to $30$?)  Which method (best-fit or SVD) accommodates a larger range of error?\n",
        "\n",
        "* **Option B:**  Best Fit for a plane\n",
        "\n",
        "Instead of matching a function $x \\to f(x)$ using a 8th degree polynomial, make a multivariable function $(x_1,x_2) \\to f(x_1,x_2)$ where $f$ is a 3rd degree polynomial in $x_1$ and $x_2$. Generate data based on at least 16 different input points. Modify the procedure for choosing the $M$ matrix, and use Best Fit to find the best fit line. \n",
        "\n",
        "\n",
        "BONUS for Option B:  Do this for 3 dimensions, with noise, or modify the SVD solution to fit this option\n",
        "\n",
        "* **Option C:**  The space of continuous functions of one variable has two different bases:\n",
        "\n",
        "\n",
        "Given an unknown function, we figured out how to write it using basis of polynomials.  We could also have determined how to write it as a basis of powers of sine and cosine functions. Fit the polynomial $f(x) = 4 - 3x^2 + 5x^6$ to a basis of sine & cosine functions of at most power 4. Plot the original function and the best-fit function.\n",
        "\n",
        "BONUS for Option C:  Include noise via $f(x)$ + (2*random.random()-1), and find a way to measure the error in your approximation to the function f(x).  What is the effect of this noise on your approximation?\n",
        "\n",
        "\n",
        "In each case, it may be helpful to re-use data from the previous cases by copy-and-paste into cells below.  Be sure to specify which option you are addressing."
      ]
    },
    {
      "cell_type": "code",
      "metadata": {
        "id": "YswdvIe3eFn5",
        "colab_type": "code",
        "outputId": "ccffc223-13fb-421c-f4d4-6d64a199b92b",
        "colab": {
          "base_uri": "https://localhost:8080/",
          "height": 34
        }
      },
      "source": [
        "#We'll generate random points of data for our system.\n",
        "#The actual points for the system will be stored in containers actual_data_x and actual_data_y\n",
        "\n",
        "actual_data_x = []\n",
        "actual_data_y = []\n",
        "\n",
        "#We'll use (cough... cough...) five   data points:\n",
        "\n",
        "    # pick a random number x for range (1,10)\n",
        "actual_data_x = np.random.randint(low=1, high=5, size=5)\n",
        "actual_data_y = 4 - 3*actual_data_x**2 + 5*actual_data_x**6\n",
        "actual_data_y"
      ],
      "execution_count": 0,
      "outputs": [
        {
          "output_type": "execute_result",
          "data": {
            "text/plain": [
              "array([ 3622,   312, 20436,  3622,   312])"
            ]
          },
          "metadata": {
            "tags": []
          },
          "execution_count": 28
        }
      ]
    },
    {
      "cell_type": "code",
      "metadata": {
        "id": "Yvz0I0J5q26F",
        "colab_type": "code",
        "colab": {}
      },
      "source": [
        "#Create the matrix M from the data in actual_data_x\n",
        "M_entries = []\n",
        "\n",
        "for x in actual_data_x:\n",
        "  M_entries.append([1, np.cos(x), np.cos(x)**2, np.cos(x)**3, np.cos(x)**4])\n",
        "\n",
        "M = []\n",
        "M = np.matrix(M_entries)\n",
        "\n",
        "\n",
        "#and create the vector b from the data in actual_data_y:\n",
        "b = []\n",
        "b = (np.matrix(actual_data_y)).transpose()\n",
        "\n"
      ],
      "execution_count": 0,
      "outputs": []
    },
    {
      "cell_type": "code",
      "metadata": {
        "id": "Lb9sNbVtsuYL",
        "colab_type": "code",
        "outputId": "fae7a12e-9cdf-49b2-d405-0715ba8eae41",
        "colab": {
          "base_uri": "https://localhost:8080/",
          "height": 295
        }
      },
      "source": [
        "x = sym.symbols('x')\n",
        "\n",
        "xdata = []\n",
        "fdata = []\n",
        "\n",
        "#set up our 100 data points on the interval from (1, 5):\n",
        "xdata = np.random.uniform(low=1, high=5, size=100)\n",
        "xdata = np.unique(xdata)\n",
        "# find the ouput for our function on each data point:\n",
        "fdata = 4 - 3*xdata**2 + 5*xdata**6\n",
        "\n",
        "# Create the plot in red, and our datapoints in blue:  \n",
        "plt.plot(xdata,fdata, color='red') + plt.plot(actual_data_x, actual_data_y, 'bo')\n",
        "\n",
        "# Add a title\n",
        "plt.title('Our test data (in blue) compared to the actual data (in red)')\n",
        "\n",
        "# Add X and y Label\n",
        "plt.xlabel('x axis')\n",
        "plt.ylabel('output')\n",
        "\n",
        "# Add a grid\n",
        "plt.grid(alpha=.4,linestyle='--')"
      ],
      "execution_count": 0,
      "outputs": [
        {
          "output_type": "display_data",
          "data": {
            "image/png": "[encoded data removed]",
            "text/plain": [
              "<Figure size 432x288 with 1 Axes>"
            ]
          },
          "metadata": {
            "tags": [],
            "needs_background": "light"
          }
        }
      ]
    },
    {
      "cell_type": "code",
      "metadata": {
        "id": "iWbtxq04uTq5",
        "colab_type": "code",
        "outputId": "d5f46b56-2688-415b-a43a-4cedf7f7952e",
        "colab": {
          "base_uri": "https://localhost:8080/",
          "height": 442
        }
      },
      "source": [
        "fdata"
      ],
      "execution_count": 0,
      "outputs": [
        {
          "output_type": "execute_result",
          "data": {
            "text/plain": [
              "array([3.46585613e+04, 6.47694324e+04, 3.86650155e+03, 1.31436174e+04,\n",
              "       4.71230146e+03, 4.88918467e+03, 2.48250257e+02, 1.26531160e+04,\n",
              "       1.08215021e+04, 7.14350286e+02, 5.88686036e+03, 3.13792669e+01,\n",
              "       2.20393917e+04, 9.90836064e+00, 5.09659548e+02, 2.90523548e+03,\n",
              "       3.10326663e+03, 2.79130063e+04, 1.61924460e+03, 1.39393336e+04,\n",
              "       3.19627526e+01, 3.10214850e+03, 1.25029791e+03, 9.82563167e+02,\n",
              "       2.95232727e+04, 6.98645758e+02, 5.51379273e+03, 3.10853066e+04,\n",
              "       2.06023731e+04, 8.66676290e+01, 9.66264179e+03, 1.56365834e+03,\n",
              "       7.42669421e+04, 1.71437520e+04, 1.29615647e+04, 2.88566348e+01,\n",
              "       4.25405382e+03, 5.37748373e+04, 4.33637261e+04, 2.87708679e+01,\n",
              "       4.60514864e+04, 2.84673149e+04, 3.27701128e+02, 2.04730628e+01,\n",
              "       8.99619031e+00, 7.07394050e+01, 9.05379890e+03, 1.83649272e+04,\n",
              "       2.52994618e+04, 1.56430961e+02, 1.60320583e+03, 3.22643278e+04,\n",
              "       2.45270750e+04, 5.23163622e+04, 1.92783957e+04, 3.09490060e+01,\n",
              "       1.24277520e+01, 7.06498428e+04, 1.25084135e+01, 2.61585236e+03,\n",
              "       1.84163140e+04, 1.74665676e+04, 9.38580936e+02, 1.47183601e+04,\n",
              "       3.26708076e+03, 9.97096524e+02, 1.94470545e+02, 1.94606438e+04,\n",
              "       7.44780439e+04, 1.46973208e+01, 9.51919270e+01, 4.68678613e+03,\n",
              "       3.59572174e+04, 1.28077571e+03, 1.26884325e+04, 7.52772468e+01,\n",
              "       1.58267977e+04, 5.66735308e+02, 6.08944233e+01, 1.88367282e+03,\n",
              "       4.05481912e+04, 1.04641160e+04, 4.90266717e+01, 8.47807892e+03,\n",
              "       4.32487183e+04, 1.16008830e+02, 6.75467950e+01, 2.61446179e+02,\n",
              "       5.17291971e+02, 1.72960890e+03, 5.40085894e+04, 7.44540764e+02,\n",
              "       1.23153501e+01, 2.11948768e+01, 6.18883502e+02, 2.89534205e+03,\n",
              "       4.85604669e+04, 3.34133161e+02, 1.80177128e+01, 3.00223777e+04])"
            ]
          },
          "metadata": {
            "tags": []
          },
          "execution_count": 12
        }
      ]
    },
    {
      "cell_type": "code",
      "metadata": {
        "id": "fUuQu-swudqp",
        "colab_type": "code",
        "outputId": "46b82753-c592-4928-bc67-824f422acf1a",
        "colab": {
          "base_uri": "https://localhost:8080/",
          "height": 282
        }
      },
      "source": [
        "plt.plot(np.unique(xdata),np.unique(fdata))"
      ],
      "execution_count": 0,
      "outputs": [
        {
          "output_type": "execute_result",
          "data": {
            "text/plain": [
              "[<matplotlib.lines.Line2D at 0x7f78da6af860>]"
            ]
          },
          "metadata": {
            "tags": []
          },
          "execution_count": 16
        },
        {
          "output_type": "display_data",
          "data": {
            "image/png": "[encoded data removed]",
            "text/plain": [
              "<Figure size 432x288 with 1 Axes>"
            ]
          },
          "metadata": {
            "tags": [],
            "needs_background": "light"
          }
        }
      ]
    },
    {
      "cell_type": "code",
      "metadata": {
        "id": "M1Ifz--Xuibe",
        "colab_type": "code",
        "outputId": "8c56202b-b856-44dd-98a5-f8a0eda3aeec",
        "colab": {
          "base_uri": "https://localhost:8080/",
          "height": 357
        }
      },
      "source": [
        "xdata"
      ],
      "execution_count": 0,
      "outputs": [
        {
          "output_type": "execute_result",
          "data": {
            "text/plain": [
              "array([4.3676836 , 4.84701397, 3.03271553, 3.71675034, 3.13401178,\n",
              "       3.15325521, 1.92620773, 3.69330764, 3.59847895, 2.29265997,\n",
              "       3.252064  , 1.36963865, 4.05060568, 1.11567294, 2.16840083,\n",
              "       2.89218147, 2.92400465, 4.21308643, 2.62501545, 3.75327518,\n",
              "       1.37388253, 2.92382977, 2.5149869 , 2.41669041, 4.25260964,\n",
              "       2.28425838, 3.21687537, 4.28926914, 4.00540175, 1.62050228,\n",
              "       3.5313234 , 2.60986928, 4.95875009, 3.88475259, 3.70813579,\n",
              "       1.35044976, 3.08120684, 4.69914219, 4.53372966, 1.34977163,\n",
              "       4.57936026, 4.22690113, 2.0162263 , 1.27360556, 1.09436705,\n",
              "       1.56729151, 3.49330932, 3.92949268, 4.14469667, 1.78548075,\n",
              "       2.62069013, 4.31593672, 4.12335963, 4.67767262, 3.96136662,\n",
              "       1.36646448, 1.16498222, 4.91768149, 1.1663832 , 2.84226769,\n",
              "       3.93132039, 3.89683125, 2.39845862, 3.78738923, 2.94907688,\n",
              "       2.42256586, 1.8504546 , 3.96757484, 4.96109508, 1.20129201,\n",
              "       1.64566701, 3.13118652, 4.39451721, 2.52503316, 3.69502057,\n",
              "       1.58340331, 3.8334247 , 2.20670409, 1.52908524, 2.6916435 ,\n",
              "       4.48332972, 3.57843466, 1.47531706, 3.45535272, 4.53172512,\n",
              "       1.69997832, 1.55542405, 1.94268019, 2.1737232 , 2.65384943,\n",
              "       4.70253793, 2.30838927, 1.16301439, 1.28125297, 2.23899377,\n",
              "       2.89054482, 4.61999568, 2.02268737, 1.24557682, 4.26449526])"
            ]
          },
          "metadata": {
            "tags": []
          },
          "execution_count": 14
        }
      ]
    }
  ]
}