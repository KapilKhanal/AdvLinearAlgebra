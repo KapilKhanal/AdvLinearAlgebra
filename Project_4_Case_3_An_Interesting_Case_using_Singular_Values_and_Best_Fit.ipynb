{
  "nbformat": 4,
  "nbformat_minor": 0,
  "metadata": {
    "colab": {
      "name": "Copy of Project 4:  Case 3 - An Interesting Case using Singular Values and Best Fit.ipynb",
      "provenance": [],
      "collapsed_sections": [],
      "include_colab_link": true
    },
    "kernelspec": {
      "name": "python3",
      "display_name": "Python 3"
    }
  },
  "cells": [
    {
      "cell_type": "markdown",
      "metadata": {
        "id": "view-in-github",
        "colab_type": "text"
      },
      "source": [
        "<a href=\"https://colab.research.google.com/github/KapilKhanal/AdvLinearAlgebra/blob/master/Project_4_Case_3_An_Interesting_Case_using_Singular_Values_and_Best_Fit.ipynb\" target=\"_parent\"><img src=\"https://colab.research.google.com/assets/colab-badge.svg\" alt=\"Open In Colab\"/></a>"
      ]
    },
    {
      "cell_type": "code",
      "metadata": {
        "id": "Hd7VYbrPdIg7",
        "colab_type": "code",
        "colab": {}
      },
      "source": [
        "#  Libraries that we'll need:\n",
        "import numpy as np\n",
        "import sympy as sym\n",
        "#from scipy import misc\n",
        "from scipy import linalg\n",
        "#from PIL import Image\n",
        "#import imageio\n",
        "import matplotlib.pyplot as plt\n",
        "# importing \"random\" for random operations \n",
        "import random "
      ],
      "execution_count": 0,
      "outputs": []
    },
    {
      "cell_type": "markdown",
      "metadata": {
        "id": "90XAt6FGd-y7",
        "colab_type": "text"
      },
      "source": [
        "#  Singular Value Decomposition and Best Fit\n",
        "\n",
        "We look at some data generated here from three sources:\n",
        "\n",
        "*   Case 0:  A known polynomial function $f(x) = 4 - 3x^2 + 5x^6$\n",
        "*   Case 1:  A known trigonometric function $f(x) = 4 - 2\\cos(x) + \\cos^2 (x)$\n",
        "*   Case 2:  A matrix of data $M$ (specified below) with unknown source function\n",
        "*   Case 3:  An interesting case."
      ]
    },
    {
      "cell_type": "markdown",
      "metadata": {
        "id": "zrZ6Bf0qeQ9n",
        "colab_type": "text"
      },
      "source": [
        "# Overview for Case 3:  An interesting case:\n",
        "\n",
        "For Case 3, you have the option of completing one of the following tasks:\n",
        "\n",
        "* **Option A:**  Re-do Case 0 or Case 1 by adding noise to the function.\n",
        "\n",
        "Using $f$ + (2*random.random()-1)  will add a random number between -1 and 1 to the value of $f$.  How much noise can your method absorb and still produce accurate results?  (e.g. noise with a range of $-1$ to $1$?  noise from a range of $-5$ to $5$?  noise from $-30$ to $30$?)  Which method (best-fit or SVD) accommodates a larger range of error?\n",
        "\n",
        "* **Option B:**  Best Fit for a plane\n",
        "\n",
        "Instead of matching a function $x \\to f(x)$ using a 8th degree polynomial, make a multivariable function $(x_1,x_2) \\to f(x_1,x_2)$ where $f$ is a 3rd degree polynomial in $x_1$ and $x_2$. Generate data based on at least 16 different input points. Modify the procedure for choosing the $M$ matrix, and use Best Fit to find the best fit line. \n",
        "\n",
        "\n",
        "BONUS for Option B:  Do this for 3 dimensions, with noise, or modify the SVD solution to fit this option\n",
        "\n",
        "* **Option C:**  The space of continuous functions of one variable has two different bases:\n",
        "\n",
        "\n",
        "Given an unknown function, we figured out how to write it using basis of polynomials.  We could also have determined how to write it as a basis of powers of sine and cosine functions. Fit the polynomial $f(x) = 4 - 3x^2 + 5x^6$ to a basis of sine & cosine functions of at most power 4. Plot the original function and the best-fit function.\n",
        "\n",
        "BONUS for Option C:  Include noise via $f(x)$ + (2*random.random()-1), and find a way to measure the error in your approximation to the function f(x).  What is the effect of this noise on your approximation?\n",
        "\n",
        "\n",
        "In each case, it may be helpful to re-use data from the previous cases by copy-and-paste into cells below.  Be sure to specify which option you are addressing."
      ]
    },
    {
      "cell_type": "markdown",
      "metadata": {
        "id": "12lUaj78dga0",
        "colab_type": "text"
      },
      "source": [
        "##OPtion C with basis as trignometric functions."
      ]
    },
    {
      "cell_type": "code",
      "metadata": {
        "id": "YswdvIe3eFn5",
        "colab_type": "code",
        "outputId": "9ff7a052-0197-495c-e9e8-90d5b262563e",
        "colab": {
          "base_uri": "https://localhost:8080/",
          "height": 306
        }
      },
      "source": [
        "#We'll generate random points of data for our system.\n",
        "#The actual points for the system will be stored in containers actual_data_x and actual_data_y\n",
        "\n",
        "actual_data_x = []\n",
        "actual_data_y = []\n",
        "\n",
        "#We'll use (cough... cough...) fifty    data points:\n",
        "\n",
        "    # pick a random number x for range (1,10)\n",
        "actual_data_x = np.unique(np.random.randint(low=1, high=200, size=80))\n",
        "actual_data_y = 4 - 3*actual_data_x**2 + 5*actual_data_x**6\n",
        "actual_data_y"
      ],
      "execution_count": 161,
      "outputs": [
        {
          "output_type": "execute_result",
          "data": {
            "text/plain": [
              "array([           3622,           20436,          588102,         2656966,\n",
              "               8857446,        24133542,        37647096,       170060152,\n",
              "             235228326,       319998804,      2974114086,     20479995204,\n",
              "           23750516166,     31606809702,     53896070022,     61152945412,\n",
              "           69206428806,     87981431206,    154204887876,    190343452632,\n",
              "          233279989204,    539590801126,    889892561254,    963499625556,\n",
              "         1412147662726,   1634701846182,   1756490136916,   2322020410692,\n",
              "         3449348878776,   4164859996422,   4707400717606,   5307600722406,\n",
              "         5970261450822,   6326595060036,   7092595527576,   9352072723846,\n",
              "        11565303788454,  12825820967782,  14929919956804,  16486519750872,\n",
              "        17314129913062,  20007520659256,  21990232506372,  24134044949304,\n",
              "        25269565669926,  28946682240216,  30267225648454,  40992090794232,\n",
              "        42754932832902,  46470571890054,  48426952348536,  54712632866406,\n",
              "        59269557873606,  83886079923204,  93776847810342,  97282134774996,\n",
              "       116490425526726, 134043766570662, 143614501861254, 153748045027462,\n",
              "       170061119902804, 175809141537126, 187791764445382, 274901856214054,\n",
              "       283469561761236, 310519202875206])"
            ]
          },
          "metadata": {
            "tags": []
          },
          "execution_count": 161
        }
      ]
    },
    {
      "cell_type": "markdown",
      "metadata": {
        "id": "Bc_ML5LvdzQ1",
        "colab_type": "text"
      },
      "source": [
        "# Adding basis functions in matrix."
      ]
    },
    {
      "cell_type": "code",
      "metadata": {
        "id": "Yvz0I0J5q26F",
        "colab_type": "code",
        "colab": {}
      },
      "source": [
        "#Create the matrix M from the data in actual_data_x\n",
        "M_entries = []\n",
        "#Basis funcitons\n",
        "for x in actual_data_x:\n",
        "  M_entries.append([np.cos(x), np.sin(x),np.cos(2*x),np.sin(2*x),np.cos(3*x),np.sin(3*x),np.cos(4*x),np.sin(4*x)])\n",
        "\n",
        "M = []\n",
        "M = np.matrix(M_entries)\n",
        "\n",
        "\n",
        "#and create the vector b from the data in actual_data_y:\n",
        "b = []\n",
        "b = (np.matrix(actual_data_y)).transpose()\n",
        "\n"
      ],
      "execution_count": 0,
      "outputs": []
    },
    {
      "cell_type": "code",
      "metadata": {
        "id": "Lb9sNbVtsuYL",
        "colab_type": "code",
        "outputId": "73058e71-e844-48d4-f7a7-63bcc189222a",
        "colab": {
          "base_uri": "https://localhost:8080/",
          "height": 295
        }
      },
      "source": [
        "x = sym.symbols('x')\n",
        "\n",
        "xdata = []\n",
        "fdata = []\n",
        "\n",
        "#set up our 100 data points on the interval from (1, 5):\n",
        "xdata = np.random.randint(low=1, high=200, size=80)\n",
        "xdata = np.unique(xdata)\n",
        "# find the ouput for our function on each data point:\n",
        "fdata = 4 - 3*xdata**2 + 5*xdata**6\n",
        "\n",
        "# Create the plot in red, and our datapoints in blue:  \n",
        "plt.plot(xdata,fdata, color='red') + plt.plot(actual_data_x, actual_data_y, 'bo')\n",
        "\n",
        "# Add a title\n",
        "plt.title('Our test data (in blue) compared to the actual data (in red)')\n",
        "\n",
        "# Add X and y Label\n",
        "plt.xlabel('x axis')\n",
        "plt.ylabel('output')\n",
        "\n",
        "# Add a grid\n",
        "plt.grid(alpha=.4,linestyle='--')"
      ],
      "execution_count": 163,
      "outputs": [
        {
          "output_type": "display_data",
          "data": {
            "image/png": "[encoded data removed]",
            "text/plain": [
              "<Figure size 432x288 with 1 Axes>"
            ]
          },
          "metadata": {
            "tags": [],
            "needs_background": "light"
          }
        }
      ]
    },
    {
      "cell_type": "code",
      "metadata": {
        "id": "iWbtxq04uTq5",
        "colab_type": "code",
        "colab": {}
      },
      "source": [
        ""
      ],
      "execution_count": 0,
      "outputs": []
    },
    {
      "cell_type": "code",
      "metadata": {
        "id": "fUuQu-swudqp",
        "colab_type": "code",
        "colab": {}
      },
      "source": [
        ""
      ],
      "execution_count": 0,
      "outputs": []
    },
    {
      "cell_type": "code",
      "metadata": {
        "id": "M1Ifz--Xuibe",
        "colab_type": "code",
        "outputId": "26f0f497-76ef-479f-94a0-aec3aaa0026f",
        "colab": {
          "base_uri": "https://localhost:8080/",
          "height": 153
        }
      },
      "source": [
        "#  (We've already used 'x' as a variable, so we'll call the solution vector c.)\n",
        "from scipy import linalg\n",
        "c = linalg.inv(M.transpose() * M) * M.transpose() * b\n",
        "c"
      ],
      "execution_count": 164,
      "outputs": [
        {
          "output_type": "execute_result",
          "data": {
            "text/plain": [
              "matrix([[ 1.58310047e+13],\n",
              "        [-1.21781676e+13],\n",
              "        [-8.88159723e+11],\n",
              "        [ 2.62251954e+13],\n",
              "        [-1.27682859e+13],\n",
              "        [ 7.64752457e+12],\n",
              "        [-1.09397514e+13],\n",
              "        [-1.80336215e+13]])"
            ]
          },
          "metadata": {
            "tags": []
          },
          "execution_count": 164
        }
      ]
    },
    {
      "cell_type": "code",
      "metadata": {
        "id": "rW_-GgyupL5b",
        "colab_type": "code",
        "colab": {
          "base_uri": "https://localhost:8080/",
          "height": 34
        },
        "outputId": "c03252e2-e045-4753-e14b-288a016ab340"
      },
      "source": [
        "c[2,0]"
      ],
      "execution_count": 165,
      "outputs": [
        {
          "output_type": "execute_result",
          "data": {
            "text/plain": [
              "-888159722514.416"
            ]
          },
          "metadata": {
            "tags": []
          },
          "execution_count": 165
        }
      ]
    },
    {
      "cell_type": "code",
      "metadata": {
        "id": "jQfKJP928kAp",
        "colab_type": "code",
        "outputId": "33b0ac68-9cc4-4168-89ff-19dce0ac1bb9",
        "colab": {
          "base_uri": "https://localhost:8080/",
          "height": 34
        }
      },
      "source": [
        "error = ((b-M*c).transpose() * (b-M*c))[0,0]\n",
        "error**0.5"
      ],
      "execution_count": 166,
      "outputs": [
        {
          "output_type": "execute_result",
          "data": {
            "text/plain": [
              "650512390408546.2"
            ]
          },
          "metadata": {
            "tags": []
          },
          "execution_count": 166
        }
      ]
    },
    {
      "cell_type": "code",
      "metadata": {
        "id": "Zu6dAoyF82XR",
        "colab_type": "code",
        "outputId": "30661057-6073-4d07-f408-21d4311b285a",
        "colab": {
          "base_uri": "https://localhost:8080/",
          "height": 295
        }
      },
      "source": [
        "#Show a plot of the solutions using the best-fit method, and the SVD method:\n",
        "\n",
        "# We'll specify that x is a variable:\n",
        "x = sym.symbols('x')\n",
        "\n",
        "\n",
        "#set up our 100 data points on the interval from (-2pi, 2pi):\n",
        "\n",
        "best_fit = c[0,0]*np.cos(xdata) +c[1,0]*np.sin(xdata)+ c[2,0]*np.cos(2*xdata)+c[3,0]*np.sin(2*xdata) + c[4,0]*np.cos(3*xdata) + c[5,0]*np.sin(3*xdata) + c[6,0]*np.cos(4*xdata) + c[7,0]*np.sin(4*xdata)\n",
        "# Create the actual plot in red, and our datapoints in blue,\n",
        "# and the best-fit method in green:  \n",
        "plt.plot(xdata,fdata, color='red', linewidth=2 )+plt.plot(xdata,best_fit, color='green')\n",
        "\n",
        "#Restrict the output values to this range:\n",
        "\n",
        "\n",
        "# Add a title\n",
        "plt.title('Our test data (blue) for the original function (red) and our best-fit solution (green)')\n",
        "plt.ylim()\n",
        "# Add X and y Label\n",
        "plt.xlabel('x axis')\n",
        "plt.ylabel('output')\n",
        "\n",
        "# Add a grid\n",
        "plt.grid(alpha=.4,linestyle='--')"
      ],
      "execution_count": 167,
      "outputs": [
        {
          "output_type": "display_data",
          "data": {
            "image/png": "[encoded data removed]",
            "text/plain": [
              "<Figure size 432x288 with 1 Axes>"
            ]
          },
          "metadata": {
            "tags": [],
            "needs_background": "light"
          }
        }
      ]
    },
    {
      "cell_type": "code",
      "metadata": {
        "id": "zxw0ngMFF2-X",
        "colab_type": "code",
        "colab": {}
      },
      "source": [
        "U, S, Vh = linalg.svd(M, full_matrices=True)\n",
        "Vh =Vh.T\n"
      ],
      "execution_count": 0,
      "outputs": []
    },
    {
      "cell_type": "code",
      "metadata": {
        "id": "mfoCQW1komMH",
        "colab_type": "code",
        "colab": {
          "base_uri": "https://localhost:8080/",
          "height": 34
        },
        "outputId": "94bce486-8d7c-4554-9da8-eaba7a848680"
      },
      "source": [
        "Vh.shape"
      ],
      "execution_count": 169,
      "outputs": [
        {
          "output_type": "execute_result",
          "data": {
            "text/plain": [
              "(8, 8)"
            ]
          },
          "metadata": {
            "tags": []
          },
          "execution_count": 169
        }
      ]
    },
    {
      "cell_type": "code",
      "metadata": {
        "id": "qFgDPCOEKlud",
        "colab_type": "code",
        "outputId": "bd8d6661-9296-4d23-f99d-34859807db3a",
        "colab": {
          "base_uri": "https://localhost:8080/",
          "height": 34
        }
      },
      "source": [
        "# We can compare the original matrix M to the matrix reconstructed (called a1) from the SVD:\n",
        "# If they are close, then allclose(M, a1) should be True.\n",
        "\n",
        "#First, recast S as a matrix instead of a vector:\n",
        "sigma = np.zeros((U.shape[1], Vh.shape[0]))\n",
        "for i in range(min(sigma.shape)):\n",
        "     sigma[i, i] = S[i]\n",
        "a1 = np.dot(U, np.dot(sigma, Vh.T))\n",
        "#does a1 approximate M?\n",
        "a1.shape\n",
        "np.allclose(M, a1)\n"
      ],
      "execution_count": 170,
      "outputs": [
        {
          "output_type": "execute_result",
          "data": {
            "text/plain": [
              "True"
            ]
          },
          "metadata": {
            "tags": []
          },
          "execution_count": 170
        }
      ]
    },
    {
      "cell_type": "code",
      "metadata": {
        "id": "LanuGPVTKr0z",
        "colab_type": "code",
        "colab": {}
      },
      "source": [
        "#  and  discard U_d, Sigma_d, Vh_d\n",
        "useSigs = 5\n",
        "\n",
        "#Use these parts of U, S, and Vh\n",
        "(Vrows, Vcols) = Vh.shape\n",
        "(Urows, Ucols) = U.shape\n",
        "U_use = U[:Urows, :useSigs]\n",
        "Vh_use = Vh[:Vrows, :useSigs]\n",
        "sigma_use = sigma[:useSigs, :useSigs]\n",
        "\n",
        "#discard these parts of U, S, and Vh:\n",
        "U_d = U[:Urows, useSigs:]\n",
        "Vh_d = Vh[:Vrows, useSigs:]\n",
        "sigma_d = sigma[useSigs:, useSigs:]\n"
      ],
      "execution_count": 0,
      "outputs": []
    },
    {
      "cell_type": "code",
      "metadata": {
        "id": "tf3uOasRKv-F",
        "colab_type": "code",
        "outputId": "b85d2f3e-5812-4dac-e8ec-24946b3e730e",
        "colab": {
          "base_uri": "https://localhost:8080/",
          "height": 153
        }
      },
      "source": [
        "svdsol = (Vh_use @ linalg.inv(sigma_use) @ U_use.transpose()) @ b\n",
        "svdsol"
      ],
      "execution_count": 172,
      "outputs": [
        {
          "output_type": "execute_result",
          "data": {
            "text/plain": [
              "matrix([[ 1.30910085e+13],\n",
              "        [ 4.00066189e+12],\n",
              "        [-1.13139851e+13],\n",
              "        [ 1.68148155e+13],\n",
              "        [ 1.43014641e+12],\n",
              "        [-4.08933715e+12],\n",
              "        [-6.21232145e+12],\n",
              "        [-1.68272427e+12]])"
            ]
          },
          "metadata": {
            "tags": []
          },
          "execution_count": 172
        }
      ]
    },
    {
      "cell_type": "code",
      "metadata": {
        "id": "FXzq4amMK1Ur",
        "colab_type": "code",
        "outputId": "6e7a6d02-c9dc-4163-c25d-286011d2a558",
        "colab": {
          "base_uri": "https://localhost:8080/",
          "height": 34
        }
      },
      "source": [
        "error = ((b-M*svdsol).transpose() * (b-M*svdsol))[0,0]\n",
        "error**0.5"
      ],
      "execution_count": 173,
      "outputs": [
        {
          "output_type": "execute_result",
          "data": {
            "text/plain": [
              "667167175754737.2"
            ]
          },
          "metadata": {
            "tags": []
          },
          "execution_count": 173
        }
      ]
    },
    {
      "cell_type": "code",
      "metadata": {
        "id": "DR650Y16K7pD",
        "colab_type": "code",
        "outputId": "281761f4-0eb8-44c2-f15f-484eecea51d4",
        "colab": {
          "base_uri": "https://localhost:8080/",
          "height": 295
        }
      },
      "source": [
        "#Show a plot of the solutions using the best-fit method, and the SVD method:\n",
        "\n",
        "# We'll specify that x is a variable:\n",
        "x = sym.symbols('x')\n",
        "\n",
        "\n",
        "# find the ouput for our function on each data point:\n",
        "fdata = 4 - 3*xdata**2 + 5*xdata**6\n",
        "svd_best_fit = svdsol[0,0]*np.cos(xdata) +svdsol[1,0]*np.sin(xdata)+ svdsol[2,0]*np.cos(2*xdata)+svdsol[3,0]*np.sin(2*xdata) + svdsol[4,0]*np.cos(3*xdata) + svdsol[5,0]*np.sin(3*xdata) + svdsol[6,0]*np.cos(4*xdata) + svdsol[7,0]*np.sin(4*xdata)\n",
        "# Create the actual plot in red, and our datapoints in blue,\n",
        "# and the best-fit method in green:  \n",
        "plt.plot(xdata,fdata, color='red', linewidth=2 ) + plt.plot(actual_data_x, actual_data_y, 'bo', alpha=0.3)+plt.plot(xdata,svd_best_fit, color='purple') + plt.plot(xdata,best_fit, color='green')\n",
        "\n",
        "#Restrict the output values to this range:\n",
        "\n",
        "\n",
        "# Add a title\n",
        "plt.title('Our test data (blue) for the original function (red) and our best-fit solution (green)')\n",
        "plt.ylim()\n",
        "# Add X and y Label\n",
        "plt.xlabel('x axis')\n",
        "plt.ylabel('output')\n",
        "\n",
        "# Add a grid\n",
        "plt.grid(alpha=.4,linestyle='--')"
      ],
      "execution_count": 174,
      "outputs": [
        {
          "output_type": "display_data",
          "data": {
            "image/png": "[encoded data removed]",
            "text/plain": [
              "<Figure size 432x288 with 1 Axes>"
            ]
          },
          "metadata": {
            "tags": [],
            "needs_background": "light"
          }
        }
      ]
    },
    {
      "cell_type": "markdown",
      "metadata": {
        "id": "XrPEtUAUdAlp",
        "colab_type": "text"
      },
      "source": [
        "#Refelection\n",
        "\n",
        "I learned a lot from this project about fitting data with lines. Especially trying out the svd for the cases where matrix in not ivertible. That I think makes it powerful compare to the best fit method by least squares method. The estimate are a little off when trying the trignometric basis.. \n",
        "\n",
        "It seems to model some part of it good but not quite perfect"
      ]
    }
  ]
}